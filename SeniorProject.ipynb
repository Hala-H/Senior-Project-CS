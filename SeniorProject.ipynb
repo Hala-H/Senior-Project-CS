{
 "cells": [
  {
   "cell_type": "markdown",
   "metadata": {
    "id": "I_vB8qmknevT"
   },
   "source": [
    "# Senior Project Implementation"
   ]
  },
  {
   "cell_type": "markdown",
   "metadata": {
    "id": "_mvbeU5dZmTM"
   },
   "source": [
    "### Hala Haneya - Hanin Balbaid - Hafsah Ranjha\n",
    "\n",
    "---\n"
   ]
  },
  {
   "cell_type": "markdown",
   "metadata": {
    "id": "dD7nfdh1ntjp"
   },
   "source": [
    "## Import Libraries\n"
   ]
  },
  {
   "cell_type": "code",
   "execution_count": 1,
   "metadata": {
    "id": "M3_Gd5iynR9n"
   },
   "outputs": [],
   "source": [
    "import os\n",
    "import pandas as pd\n",
    "import xgboost as xgb\n",
    "from pandas import read_excel\n",
    "from pandas.plotting import scatter_matrix\n",
    "from matplotlib import pyplot\n",
    "from matplotlib import figure\n",
    "import matplotlib.pyplot as plt\n",
    "from sklearn.model_selection import train_test_split\n",
    "from sklearn.model_selection import cross_val_score\n",
    "from sklearn.model_selection import cross_validate\n",
    "from sklearn.model_selection import StratifiedKFold\n",
    "from sklearn.metrics import classification_report\n",
    "from sklearn.metrics import confusion_matrix\n",
    "from sklearn.metrics import accuracy_score\n",
    "from sklearn.linear_model import LogisticRegression\n",
    "from sklearn.tree import DecisionTreeClassifier\n",
    "from sklearn.neighbors import KNeighborsClassifier\n",
    "from sklearn.discriminant_analysis import LinearDiscriminantAnalysis\n",
    "from sklearn.ensemble import AdaBoostClassifier\n",
    "from sklearn.ensemble import RandomForestClassifier\n",
    "from sklearn.ensemble import GradientBoostingClassifier\n",
    "from xgboost import XGBClassifier\n",
    "from sklearn.naive_bayes import GaussianNB, MultinomialNB\n",
    "from sklearn.svm import SVC"
   ]
  },
  {
   "cell_type": "markdown",
   "metadata": {
    "id": "JFFGbNaeirqh"
   },
   "source": []
  },
  {
   "cell_type": "markdown",
   "metadata": {
    "id": "LwLv2piloXPS"
   },
   "source": [
    "## Load the Dataset"
   ]
  },
  {
   "cell_type": "code",
   "execution_count": 2,
   "metadata": {
    "colab": {
     "base_uri": "https://localhost:8080/"
    },
    "id": "EGkUodDnZgPj",
    "outputId": "6d861cf7-8263-49a7-f12d-49c2baa77e9b"
   },
   "outputs": [],
   "source": [
    "# This allows us to mount google drive and be able to access datasets from there\n",
    "#from google.colab import drive\n",
    "#drive.mount('/content/drive')"
   ]
  },
  {
   "cell_type": "code",
   "execution_count": 3,
   "metadata": {
    "id": "rXGluTZVwLNl"
   },
   "outputs": [],
   "source": [
    "# !pip install xlrd\n",
    "# !pip install openpyxl\n",
    "# !pip install --upgrade xlrd"
   ]
  },
  {
   "cell_type": "code",
   "execution_count": 4,
   "metadata": {
    "id": "C7sZSLfZohR9"
   },
   "outputs": [],
   "source": [
    "url = r\"data\\dataset.csv\"\n",
    "df = pd.read_csv(url, header = 0)"
   ]
  },
  {
   "cell_type": "markdown",
   "metadata": {
    "id": "i9Ivm3x9ndGr"
   },
   "source": []
  },
  {
   "cell_type": "markdown",
   "metadata": {
    "id": "UexioPzitl3B"
   },
   "source": [
    "## Explore Dataset"
   ]
  },
  {
   "cell_type": "markdown",
   "metadata": {
    "id": "qnMdAS00W7ug"
   },
   "source": [
    "### Peek at data"
   ]
  },
  {
   "cell_type": "code",
   "execution_count": 5,
   "metadata": {
    "colab": {
     "base_uri": "https://localhost:8080/"
    },
    "id": "jfaWymjXt3lX",
    "outputId": "bad06005-0c70-4f9f-9af9-6e5dec0531b4"
   },
   "outputs": [
    {
     "data": {
      "text/plain": [
       "(552, 15)"
      ]
     },
     "execution_count": 5,
     "metadata": {},
     "output_type": "execute_result"
    }
   ],
   "source": [
    "# shape\n",
    "df.shape"
   ]
  },
  {
   "cell_type": "code",
   "execution_count": 6,
   "metadata": {
    "colab": {
     "base_uri": "https://localhost:8080/",
     "height": 774
    },
    "id": "V87Q7QmZXonB",
    "outputId": "d378f84f-5ef8-41ec-a9e8-6960673f7768"
   },
   "outputs": [
    {
     "data": {
      "text/html": [
       "<div>\n",
       "<style scoped>\n",
       "    .dataframe tbody tr th:only-of-type {\n",
       "        vertical-align: middle;\n",
       "    }\n",
       "\n",
       "    .dataframe tbody tr th {\n",
       "        vertical-align: top;\n",
       "    }\n",
       "\n",
       "    .dataframe thead th {\n",
       "        text-align: right;\n",
       "    }\n",
       "</style>\n",
       "<table border=\"1\" class=\"dataframe\">\n",
       "  <thead>\n",
       "    <tr style=\"text-align: right;\">\n",
       "      <th></th>\n",
       "      <th>Patient_seen_at</th>\n",
       "      <th>Gender</th>\n",
       "      <th>Age</th>\n",
       "      <th>height</th>\n",
       "      <th>weight</th>\n",
       "      <th>BMIc</th>\n",
       "      <th>BMI_Percentile</th>\n",
       "      <th>BMC_perecent_481</th>\n",
       "      <th>Patient_is_Overwiegh</th>\n",
       "      <th>Obesity_identified</th>\n",
       "      <th>Phy_Action</th>\n",
       "      <th>Physicians_Actions_other</th>\n",
       "      <th>Age10yrs</th>\n",
       "      <th>Diagnosis</th>\n",
       "      <th>Diagnosis_other</th>\n",
       "    </tr>\n",
       "  </thead>\n",
       "  <tbody>\n",
       "    <tr>\n",
       "      <th>0</th>\n",
       "      <td>Primary Care Center</td>\n",
       "      <td>Female</td>\n",
       "      <td>14</td>\n",
       "      <td>NaN</td>\n",
       "      <td>83.0</td>\n",
       "      <td>NaN</td>\n",
       "      <td>95+</td>\n",
       "      <td>NaN</td>\n",
       "      <td>Yes</td>\n",
       "      <td>NaN</td>\n",
       "      <td>NaN</td>\n",
       "      <td></td>\n",
       "      <td>over 10 years-adolescents</td>\n",
       "      <td>Upper Respir</td>\n",
       "      <td>NaN</td>\n",
       "    </tr>\n",
       "    <tr>\n",
       "      <th>1</th>\n",
       "      <td>Primary Care Center</td>\n",
       "      <td>Female</td>\n",
       "      <td>13</td>\n",
       "      <td>NaN</td>\n",
       "      <td>42.0</td>\n",
       "      <td>NaN</td>\n",
       "      <td>5 to &lt;85</td>\n",
       "      <td>NaN</td>\n",
       "      <td>No</td>\n",
       "      <td>NaN</td>\n",
       "      <td>NaN</td>\n",
       "      <td></td>\n",
       "      <td>over 10 years-adolescents</td>\n",
       "      <td>Gastroenteri</td>\n",
       "      <td>NaN</td>\n",
       "    </tr>\n",
       "    <tr>\n",
       "      <th>2</th>\n",
       "      <td>Primary Care Center</td>\n",
       "      <td>Male</td>\n",
       "      <td>14</td>\n",
       "      <td>NaN</td>\n",
       "      <td>46.1</td>\n",
       "      <td>NaN</td>\n",
       "      <td>5 to &lt;85</td>\n",
       "      <td>NaN</td>\n",
       "      <td>No</td>\n",
       "      <td>NaN</td>\n",
       "      <td>NaN</td>\n",
       "      <td></td>\n",
       "      <td>over 10 years-adolescents</td>\n",
       "      <td>Other</td>\n",
       "      <td>Leg trauma</td>\n",
       "    </tr>\n",
       "    <tr>\n",
       "      <th>3</th>\n",
       "      <td>Primary Care Center</td>\n",
       "      <td>Male</td>\n",
       "      <td>14</td>\n",
       "      <td>NaN</td>\n",
       "      <td>67.0</td>\n",
       "      <td>NaN</td>\n",
       "      <td>85 to &lt;95</td>\n",
       "      <td>NaN</td>\n",
       "      <td>Yes</td>\n",
       "      <td>NaN</td>\n",
       "      <td>NaN</td>\n",
       "      <td></td>\n",
       "      <td>over 10 years-adolescents</td>\n",
       "      <td>Gastroenteri</td>\n",
       "      <td>NaN</td>\n",
       "    </tr>\n",
       "    <tr>\n",
       "      <th>4</th>\n",
       "      <td>Primary Care Center</td>\n",
       "      <td>Female</td>\n",
       "      <td>13</td>\n",
       "      <td>156.0</td>\n",
       "      <td>49.0</td>\n",
       "      <td>20.134779</td>\n",
       "      <td>5 to &lt;85</td>\n",
       "      <td>2.0</td>\n",
       "      <td>No</td>\n",
       "      <td>NaN</td>\n",
       "      <td>NaN</td>\n",
       "      <td></td>\n",
       "      <td>over 10 years-adolescents</td>\n",
       "      <td>Other</td>\n",
       "      <td>Vertigo</td>\n",
       "    </tr>\n",
       "    <tr>\n",
       "      <th>5</th>\n",
       "      <td>Primary Care Center</td>\n",
       "      <td>Male</td>\n",
       "      <td>7</td>\n",
       "      <td>110.0</td>\n",
       "      <td>17.2</td>\n",
       "      <td>14.214876</td>\n",
       "      <td>5 to &lt;85</td>\n",
       "      <td>2.0</td>\n",
       "      <td>No</td>\n",
       "      <td>NaN</td>\n",
       "      <td>NaN</td>\n",
       "      <td></td>\n",
       "      <td>under 10years-children</td>\n",
       "      <td>Other</td>\n",
       "      <td>Chicken pox</td>\n",
       "    </tr>\n",
       "    <tr>\n",
       "      <th>6</th>\n",
       "      <td>Primary Care Center</td>\n",
       "      <td>Female</td>\n",
       "      <td>6</td>\n",
       "      <td>133.0</td>\n",
       "      <td>22.0</td>\n",
       "      <td>12.437108</td>\n",
       "      <td>85 to &lt;95</td>\n",
       "      <td>1.0</td>\n",
       "      <td>Yes</td>\n",
       "      <td>NaN</td>\n",
       "      <td>NaN</td>\n",
       "      <td></td>\n",
       "      <td>under 10years-children</td>\n",
       "      <td>Other</td>\n",
       "      <td>Impaired vision</td>\n",
       "    </tr>\n",
       "    <tr>\n",
       "      <th>7</th>\n",
       "      <td>Primary Care Center</td>\n",
       "      <td>Male</td>\n",
       "      <td>9</td>\n",
       "      <td>NaN</td>\n",
       "      <td>25.0</td>\n",
       "      <td>NaN</td>\n",
       "      <td>5 to &lt;85</td>\n",
       "      <td>NaN</td>\n",
       "      <td>No</td>\n",
       "      <td>NaN</td>\n",
       "      <td>NaN</td>\n",
       "      <td></td>\n",
       "      <td>under 10years-children</td>\n",
       "      <td>Other</td>\n",
       "      <td>EBV infection</td>\n",
       "    </tr>\n",
       "    <tr>\n",
       "      <th>8</th>\n",
       "      <td>Primary Care Center</td>\n",
       "      <td>Female</td>\n",
       "      <td>14</td>\n",
       "      <td>NaN</td>\n",
       "      <td>57.0</td>\n",
       "      <td>NaN</td>\n",
       "      <td>5 to &lt;85</td>\n",
       "      <td>NaN</td>\n",
       "      <td>No</td>\n",
       "      <td>NaN</td>\n",
       "      <td>NaN</td>\n",
       "      <td></td>\n",
       "      <td>over 10 years-adolescents</td>\n",
       "      <td>Upper Respir</td>\n",
       "      <td>NaN</td>\n",
       "    </tr>\n",
       "    <tr>\n",
       "      <th>9</th>\n",
       "      <td>Primary Care Center</td>\n",
       "      <td>Male</td>\n",
       "      <td>6</td>\n",
       "      <td>NaN</td>\n",
       "      <td>17.6</td>\n",
       "      <td>NaN</td>\n",
       "      <td>&lt;5</td>\n",
       "      <td>NaN</td>\n",
       "      <td>No</td>\n",
       "      <td>NaN</td>\n",
       "      <td>NaN</td>\n",
       "      <td></td>\n",
       "      <td>under 10years-children</td>\n",
       "      <td>Abdominal Pa</td>\n",
       "      <td>NaN</td>\n",
       "    </tr>\n",
       "  </tbody>\n",
       "</table>\n",
       "</div>"
      ],
      "text/plain": [
       "       Patient_seen_at  Gender  Age  height  weight       BMIc BMI_Percentile  \\\n",
       "0  Primary Care Center  Female   14     NaN    83.0        NaN            95+   \n",
       "1  Primary Care Center  Female   13     NaN    42.0        NaN       5 to <85   \n",
       "2  Primary Care Center    Male   14     NaN    46.1        NaN       5 to <85   \n",
       "3  Primary Care Center    Male   14     NaN    67.0        NaN      85 to <95   \n",
       "4  Primary Care Center  Female   13   156.0    49.0  20.134779       5 to <85   \n",
       "5  Primary Care Center    Male    7   110.0    17.2  14.214876       5 to <85   \n",
       "6  Primary Care Center  Female    6   133.0    22.0  12.437108      85 to <95   \n",
       "7  Primary Care Center    Male    9     NaN    25.0        NaN       5 to <85   \n",
       "8  Primary Care Center  Female   14     NaN    57.0        NaN       5 to <85   \n",
       "9  Primary Care Center    Male    6     NaN    17.6        NaN             <5   \n",
       "\n",
       "   BMC_perecent_481 Patient_is_Overwiegh Obesity_identified Phy_Action  \\\n",
       "0               NaN                  Yes                NaN        NaN   \n",
       "1               NaN                   No                NaN        NaN   \n",
       "2               NaN                   No                NaN        NaN   \n",
       "3               NaN                  Yes                NaN        NaN   \n",
       "4               2.0                   No                NaN        NaN   \n",
       "5               2.0                   No                NaN        NaN   \n",
       "6               1.0                  Yes                NaN        NaN   \n",
       "7               NaN                   No                NaN        NaN   \n",
       "8               NaN                   No                NaN        NaN   \n",
       "9               NaN                   No                NaN        NaN   \n",
       "\n",
       "  Physicians_Actions_other                   Age10yrs     Diagnosis  \\\n",
       "0                           over 10 years-adolescents  Upper Respir   \n",
       "1                           over 10 years-adolescents  Gastroenteri   \n",
       "2                           over 10 years-adolescents         Other   \n",
       "3                           over 10 years-adolescents  Gastroenteri   \n",
       "4                           over 10 years-adolescents         Other   \n",
       "5                              under 10years-children         Other   \n",
       "6                              under 10years-children         Other   \n",
       "7                              under 10years-children         Other   \n",
       "8                           over 10 years-adolescents  Upper Respir   \n",
       "9                              under 10years-children  Abdominal Pa   \n",
       "\n",
       "   Diagnosis_other  \n",
       "0              NaN  \n",
       "1              NaN  \n",
       "2       Leg trauma  \n",
       "3              NaN  \n",
       "4          Vertigo  \n",
       "5      Chicken pox  \n",
       "6  Impaired vision  \n",
       "7    EBV infection  \n",
       "8              NaN  \n",
       "9              NaN  "
      ]
     },
     "execution_count": 6,
     "metadata": {},
     "output_type": "execute_result"
    }
   ],
   "source": [
    "#head\n",
    "df.head(10)"
   ]
  },
  {
   "cell_type": "code",
   "execution_count": 7,
   "metadata": {
    "colab": {
     "base_uri": "https://localhost:8080/"
    },
    "id": "Ux3KoUVTXwyX",
    "outputId": "6508fbd0-2ce9-4996-e9fd-2737b0f815c5"
   },
   "outputs": [
    {
     "data": {
      "text/plain": [
       "Patient_seen_at              object\n",
       "Gender                       object\n",
       "Age                           int64\n",
       "height                      float64\n",
       "weight                      float64\n",
       "BMIc                        float64\n",
       "BMI_Percentile               object\n",
       "BMC_perecent_481            float64\n",
       "Patient_is_Overwiegh         object\n",
       "Obesity_identified           object\n",
       "Phy_Action                   object\n",
       "Physicians_Actions_other     object\n",
       "Age10yrs                     object\n",
       "Diagnosis                    object\n",
       "Diagnosis_other              object\n",
       "dtype: object"
      ]
     },
     "execution_count": 7,
     "metadata": {},
     "output_type": "execute_result"
    }
   ],
   "source": [
    "df.dtypes"
   ]
  },
  {
   "cell_type": "code",
   "execution_count": 8,
   "metadata": {
    "colab": {
     "base_uri": "https://localhost:8080/"
    },
    "id": "9i_iTZO3Pvmf",
    "outputId": "151c57e7-bf13-4cb5-c195-ff5b40ed29fd"
   },
   "outputs": [
    {
     "data": {
      "text/plain": [
       "Patient_seen_at               0\n",
       "Gender                        0\n",
       "Age                           0\n",
       "height                       71\n",
       "weight                        0\n",
       "BMIc                         71\n",
       "BMI_Percentile                3\n",
       "BMC_perecent_481             71\n",
       "Patient_is_Overwiegh          0\n",
       "Obesity_identified          466\n",
       "Phy_Action                  535\n",
       "Physicians_Actions_other      0\n",
       "Age10yrs                      0\n",
       "Diagnosis                     0\n",
       "Diagnosis_other             385\n",
       "dtype: int64"
      ]
     },
     "execution_count": 8,
     "metadata": {},
     "output_type": "execute_result"
    }
   ],
   "source": [
    "#Find the missing values from each column\n",
    "df.isnull().sum()"
   ]
  },
  {
   "cell_type": "markdown",
   "metadata": {
    "id": "fULTxFEZX0YG"
   },
   "source": [
    "### Stastical Summary\n"
   ]
  },
  {
   "cell_type": "code",
   "execution_count": 9,
   "metadata": {
    "colab": {
     "base_uri": "https://localhost:8080/",
     "height": 300
    },
    "id": "8iDbls7qX49d",
    "outputId": "3b2511ca-89db-4b04-f52a-a98cdab5b653"
   },
   "outputs": [
    {
     "data": {
      "text/html": [
       "<div>\n",
       "<style scoped>\n",
       "    .dataframe tbody tr th:only-of-type {\n",
       "        vertical-align: middle;\n",
       "    }\n",
       "\n",
       "    .dataframe tbody tr th {\n",
       "        vertical-align: top;\n",
       "    }\n",
       "\n",
       "    .dataframe thead th {\n",
       "        text-align: right;\n",
       "    }\n",
       "</style>\n",
       "<table border=\"1\" class=\"dataframe\">\n",
       "  <thead>\n",
       "    <tr style=\"text-align: right;\">\n",
       "      <th></th>\n",
       "      <th>Age</th>\n",
       "      <th>height</th>\n",
       "      <th>weight</th>\n",
       "      <th>BMIc</th>\n",
       "      <th>BMC_perecent_481</th>\n",
       "    </tr>\n",
       "  </thead>\n",
       "  <tbody>\n",
       "    <tr>\n",
       "      <th>count</th>\n",
       "      <td>552.000000</td>\n",
       "      <td>481.000000</td>\n",
       "      <td>552.000000</td>\n",
       "      <td>481.000000</td>\n",
       "      <td>481.000000</td>\n",
       "    </tr>\n",
       "    <tr>\n",
       "      <th>mean</th>\n",
       "      <td>9.344203</td>\n",
       "      <td>129.631809</td>\n",
       "      <td>31.151268</td>\n",
       "      <td>17.107735</td>\n",
       "      <td>2.083160</td>\n",
       "    </tr>\n",
       "    <tr>\n",
       "      <th>std</th>\n",
       "      <td>2.528459</td>\n",
       "      <td>14.214220</td>\n",
       "      <td>13.920186</td>\n",
       "      <td>4.268677</td>\n",
       "      <td>0.832508</td>\n",
       "    </tr>\n",
       "    <tr>\n",
       "      <th>min</th>\n",
       "      <td>6.000000</td>\n",
       "      <td>99.000000</td>\n",
       "      <td>12.000000</td>\n",
       "      <td>10.592472</td>\n",
       "      <td>1.000000</td>\n",
       "    </tr>\n",
       "    <tr>\n",
       "      <th>25%</th>\n",
       "      <td>7.000000</td>\n",
       "      <td>119.500000</td>\n",
       "      <td>21.375000</td>\n",
       "      <td>14.244643</td>\n",
       "      <td>2.000000</td>\n",
       "    </tr>\n",
       "    <tr>\n",
       "      <th>50%</th>\n",
       "      <td>9.000000</td>\n",
       "      <td>128.200000</td>\n",
       "      <td>27.150000</td>\n",
       "      <td>16.120564</td>\n",
       "      <td>2.000000</td>\n",
       "    </tr>\n",
       "    <tr>\n",
       "      <th>75%</th>\n",
       "      <td>11.000000</td>\n",
       "      <td>139.000000</td>\n",
       "      <td>36.325000</td>\n",
       "      <td>18.432000</td>\n",
       "      <td>2.000000</td>\n",
       "    </tr>\n",
       "    <tr>\n",
       "      <th>max</th>\n",
       "      <td>14.000000</td>\n",
       "      <td>167.000000</td>\n",
       "      <td>85.000000</td>\n",
       "      <td>34.927680</td>\n",
       "      <td>4.000000</td>\n",
       "    </tr>\n",
       "  </tbody>\n",
       "</table>\n",
       "</div>"
      ],
      "text/plain": [
       "              Age      height      weight        BMIc  BMC_perecent_481\n",
       "count  552.000000  481.000000  552.000000  481.000000        481.000000\n",
       "mean     9.344203  129.631809   31.151268   17.107735          2.083160\n",
       "std      2.528459   14.214220   13.920186    4.268677          0.832508\n",
       "min      6.000000   99.000000   12.000000   10.592472          1.000000\n",
       "25%      7.000000  119.500000   21.375000   14.244643          2.000000\n",
       "50%      9.000000  128.200000   27.150000   16.120564          2.000000\n",
       "75%     11.000000  139.000000   36.325000   18.432000          2.000000\n",
       "max     14.000000  167.000000   85.000000   34.927680          4.000000"
      ]
     },
     "execution_count": 9,
     "metadata": {},
     "output_type": "execute_result"
    }
   ],
   "source": [
    "#descriptions\n",
    "df.describe()"
   ]
  },
  {
   "cell_type": "code",
   "execution_count": 10,
   "metadata": {
    "colab": {
     "base_uri": "https://localhost:8080/"
    },
    "id": "njzJMWmNCksg",
    "outputId": "d61988cf-4d0f-4945-8d8d-0cd09535d73b"
   },
   "outputs": [
    {
     "data": {
      "text/plain": [
       "0        NaN\n",
       "1        NaN\n",
       "2        NaN\n",
       "3        NaN\n",
       "4      156.0\n",
       "       ...  \n",
       "547    153.0\n",
       "548    136.0\n",
       "549    119.0\n",
       "550    115.5\n",
       "551    119.0\n",
       "Name: height, Length: 552, dtype: float64"
      ]
     },
     "execution_count": 10,
     "metadata": {},
     "output_type": "execute_result"
    }
   ],
   "source": [
    "df['height']"
   ]
  },
  {
   "cell_type": "markdown",
   "metadata": {
    "id": "-xZ3RdA-YaXI"
   },
   "source": [
    "## Data Preprocessing "
   ]
  },
  {
   "cell_type": "code",
   "execution_count": 11,
   "metadata": {
    "colab": {
     "base_uri": "https://localhost:8080/"
    },
    "id": "18zrnB54YdP5",
    "outputId": "4d64a02a-1f82-4607-b536-3dffb88eda0d"
   },
   "outputs": [
    {
     "data": {
      "text/plain": [
       "Patient_is_Overwiegh\n",
       "No     445\n",
       "Yes    107\n",
       "dtype: int64"
      ]
     },
     "execution_count": 11,
     "metadata": {},
     "output_type": "execute_result"
    }
   ],
   "source": [
    "df.groupby('Patient_is_Overwiegh').size()"
   ]
  },
  {
   "cell_type": "code",
   "execution_count": 12,
   "metadata": {
    "colab": {
     "base_uri": "https://localhost:8080/"
    },
    "id": "e7cxPW0kYfUf",
    "outputId": "75ceb083-cbe2-483b-97c6-42b0f593b0e4"
   },
   "outputs": [
    {
     "data": {
      "text/plain": [
       "Obesity_identified\n",
       "No     69\n",
       "Yes    17\n",
       "dtype: int64"
      ]
     },
     "execution_count": 12,
     "metadata": {},
     "output_type": "execute_result"
    }
   ],
   "source": [
    "df.groupby('Obesity_identified').size()"
   ]
  },
  {
   "cell_type": "code",
   "execution_count": 13,
   "metadata": {
    "colab": {
     "base_uri": "https://localhost:8080/"
    },
    "id": "YUkuYDZrP5Do",
    "outputId": "64349137-e4e4-40eb-9b96-847ca8a76afd"
   },
   "outputs": [
    {
     "data": {
      "text/plain": [
       "Patient_seen_at              0.000000\n",
       "Gender                       0.000000\n",
       "Age                          0.000000\n",
       "height                      12.862319\n",
       "weight                       0.000000\n",
       "BMIc                        12.862319\n",
       "BMI_Percentile               0.543478\n",
       "BMC_perecent_481            12.862319\n",
       "Patient_is_Overwiegh         0.000000\n",
       "Obesity_identified          84.420290\n",
       "Phy_Action                  96.920290\n",
       "Physicians_Actions_other     0.000000\n",
       "Age10yrs                     0.000000\n",
       "Diagnosis                    0.000000\n",
       "Diagnosis_other             69.746377\n",
       "dtype: float64"
      ]
     },
     "execution_count": 13,
     "metadata": {},
     "output_type": "execute_result"
    }
   ],
   "source": [
    "df.isnull().sum()*100/len(df)"
   ]
  },
  {
   "cell_type": "markdown",
   "metadata": {
    "id": "qDpdFdFwa_JK"
   },
   "source": [
    "### Labelling"
   ]
  },
  {
   "cell_type": "code",
   "execution_count": 14,
   "metadata": {
    "colab": {
     "base_uri": "https://localhost:8080/",
     "height": 444
    },
    "id": "F6e64AmhsuBQ",
    "outputId": "e616618b-0ba8-4976-ee35-7dbfa07138f6"
   },
   "outputs": [
    {
     "data": {
      "text/html": [
       "<div>\n",
       "<style scoped>\n",
       "    .dataframe tbody tr th:only-of-type {\n",
       "        vertical-align: middle;\n",
       "    }\n",
       "\n",
       "    .dataframe tbody tr th {\n",
       "        vertical-align: top;\n",
       "    }\n",
       "\n",
       "    .dataframe thead th {\n",
       "        text-align: right;\n",
       "    }\n",
       "</style>\n",
       "<table border=\"1\" class=\"dataframe\">\n",
       "  <thead>\n",
       "    <tr style=\"text-align: right;\">\n",
       "      <th></th>\n",
       "      <th>Patient_seen_at</th>\n",
       "      <th>Gender</th>\n",
       "      <th>Age</th>\n",
       "      <th>height</th>\n",
       "      <th>weight</th>\n",
       "      <th>BMIc</th>\n",
       "      <th>BMI_Percentile</th>\n",
       "      <th>BMC_perecent_481</th>\n",
       "      <th>Patient_is_Overwiegh</th>\n",
       "      <th>Obesity_identified</th>\n",
       "      <th>Phy_Action</th>\n",
       "      <th>Physicians_Actions_other</th>\n",
       "      <th>Age10yrs</th>\n",
       "      <th>Diagnosis</th>\n",
       "      <th>Diagnosis_other</th>\n",
       "      <th>bmi_class</th>\n",
       "    </tr>\n",
       "  </thead>\n",
       "  <tbody>\n",
       "    <tr>\n",
       "      <th>0</th>\n",
       "      <td>Primary Care Center</td>\n",
       "      <td>Female</td>\n",
       "      <td>14</td>\n",
       "      <td>NaN</td>\n",
       "      <td>83.0</td>\n",
       "      <td>NaN</td>\n",
       "      <td>95+</td>\n",
       "      <td>NaN</td>\n",
       "      <td>Yes</td>\n",
       "      <td>NaN</td>\n",
       "      <td>NaN</td>\n",
       "      <td></td>\n",
       "      <td>over 10 years-adolescents</td>\n",
       "      <td>Upper Respir</td>\n",
       "      <td>NaN</td>\n",
       "      <td>Obese</td>\n",
       "    </tr>\n",
       "    <tr>\n",
       "      <th>1</th>\n",
       "      <td>Primary Care Center</td>\n",
       "      <td>Female</td>\n",
       "      <td>13</td>\n",
       "      <td>NaN</td>\n",
       "      <td>42.0</td>\n",
       "      <td>NaN</td>\n",
       "      <td>5 to &lt;85</td>\n",
       "      <td>NaN</td>\n",
       "      <td>No</td>\n",
       "      <td>NaN</td>\n",
       "      <td>NaN</td>\n",
       "      <td></td>\n",
       "      <td>over 10 years-adolescents</td>\n",
       "      <td>Gastroenteri</td>\n",
       "      <td>NaN</td>\n",
       "      <td>Normal weight</td>\n",
       "    </tr>\n",
       "    <tr>\n",
       "      <th>2</th>\n",
       "      <td>Primary Care Center</td>\n",
       "      <td>Male</td>\n",
       "      <td>14</td>\n",
       "      <td>NaN</td>\n",
       "      <td>46.1</td>\n",
       "      <td>NaN</td>\n",
       "      <td>5 to &lt;85</td>\n",
       "      <td>NaN</td>\n",
       "      <td>No</td>\n",
       "      <td>NaN</td>\n",
       "      <td>NaN</td>\n",
       "      <td></td>\n",
       "      <td>over 10 years-adolescents</td>\n",
       "      <td>Other</td>\n",
       "      <td>Leg trauma</td>\n",
       "      <td>Normal weight</td>\n",
       "    </tr>\n",
       "    <tr>\n",
       "      <th>3</th>\n",
       "      <td>Primary Care Center</td>\n",
       "      <td>Male</td>\n",
       "      <td>14</td>\n",
       "      <td>NaN</td>\n",
       "      <td>67.0</td>\n",
       "      <td>NaN</td>\n",
       "      <td>85 to &lt;95</td>\n",
       "      <td>NaN</td>\n",
       "      <td>Yes</td>\n",
       "      <td>NaN</td>\n",
       "      <td>NaN</td>\n",
       "      <td></td>\n",
       "      <td>over 10 years-adolescents</td>\n",
       "      <td>Gastroenteri</td>\n",
       "      <td>NaN</td>\n",
       "      <td>Overweight</td>\n",
       "    </tr>\n",
       "    <tr>\n",
       "      <th>4</th>\n",
       "      <td>Primary Care Center</td>\n",
       "      <td>Female</td>\n",
       "      <td>13</td>\n",
       "      <td>156.0</td>\n",
       "      <td>49.0</td>\n",
       "      <td>20.134779</td>\n",
       "      <td>5 to &lt;85</td>\n",
       "      <td>2.0</td>\n",
       "      <td>No</td>\n",
       "      <td>NaN</td>\n",
       "      <td>NaN</td>\n",
       "      <td></td>\n",
       "      <td>over 10 years-adolescents</td>\n",
       "      <td>Other</td>\n",
       "      <td>Vertigo</td>\n",
       "      <td>Normal weight</td>\n",
       "    </tr>\n",
       "  </tbody>\n",
       "</table>\n",
       "</div>"
      ],
      "text/plain": [
       "       Patient_seen_at  Gender  Age  height  weight       BMIc BMI_Percentile  \\\n",
       "0  Primary Care Center  Female   14     NaN    83.0        NaN            95+   \n",
       "1  Primary Care Center  Female   13     NaN    42.0        NaN       5 to <85   \n",
       "2  Primary Care Center    Male   14     NaN    46.1        NaN       5 to <85   \n",
       "3  Primary Care Center    Male   14     NaN    67.0        NaN      85 to <95   \n",
       "4  Primary Care Center  Female   13   156.0    49.0  20.134779       5 to <85   \n",
       "\n",
       "   BMC_perecent_481 Patient_is_Overwiegh Obesity_identified Phy_Action  \\\n",
       "0               NaN                  Yes                NaN        NaN   \n",
       "1               NaN                   No                NaN        NaN   \n",
       "2               NaN                   No                NaN        NaN   \n",
       "3               NaN                  Yes                NaN        NaN   \n",
       "4               2.0                   No                NaN        NaN   \n",
       "\n",
       "  Physicians_Actions_other                   Age10yrs     Diagnosis  \\\n",
       "0                           over 10 years-adolescents  Upper Respir   \n",
       "1                           over 10 years-adolescents  Gastroenteri   \n",
       "2                           over 10 years-adolescents         Other   \n",
       "3                           over 10 years-adolescents  Gastroenteri   \n",
       "4                           over 10 years-adolescents         Other   \n",
       "\n",
       "  Diagnosis_other      bmi_class  \n",
       "0             NaN          Obese  \n",
       "1             NaN  Normal weight  \n",
       "2      Leg trauma  Normal weight  \n",
       "3             NaN     Overweight  \n",
       "4         Vertigo  Normal weight  "
      ]
     },
     "execution_count": 14,
     "metadata": {},
     "output_type": "execute_result"
    }
   ],
   "source": [
    "# create a function\n",
    "def bmi_class(percentile):\n",
    "    if  percentile == '95+':\n",
    "        return 'Obese'\n",
    "    elif percentile == '85 to <95':\n",
    "        return 'Overweight'\n",
    "    elif percentile == '5 to <85':\n",
    "        return 'Normal weight'\n",
    "    elif percentile == '<5':\n",
    "        return 'Underweight'\n",
    "    else: \n",
    "        return 'null'\n",
    "\n",
    "# create a new column based on condition\n",
    "df['bmi_class'] = df['BMI_Percentile'].apply(bmi_class)\n",
    "# display the dataframe\n",
    "df.head()"
   ]
  },
  {
   "cell_type": "markdown",
   "metadata": {
    "id": "1tkQ7XEYbRGr"
   },
   "source": [
    "### Is Overweight?"
   ]
  },
  {
   "cell_type": "code",
   "execution_count": 15,
   "metadata": {
    "colab": {
     "base_uri": "https://localhost:8080/",
     "height": 444
    },
    "id": "uI1rc6Ax4qxq",
    "outputId": "ce6f5ace-f397-47c8-cacd-33402dbf0231"
   },
   "outputs": [
    {
     "data": {
      "text/html": [
       "<div>\n",
       "<style scoped>\n",
       "    .dataframe tbody tr th:only-of-type {\n",
       "        vertical-align: middle;\n",
       "    }\n",
       "\n",
       "    .dataframe tbody tr th {\n",
       "        vertical-align: top;\n",
       "    }\n",
       "\n",
       "    .dataframe thead th {\n",
       "        text-align: right;\n",
       "    }\n",
       "</style>\n",
       "<table border=\"1\" class=\"dataframe\">\n",
       "  <thead>\n",
       "    <tr style=\"text-align: right;\">\n",
       "      <th></th>\n",
       "      <th>Patient_seen_at</th>\n",
       "      <th>Gender</th>\n",
       "      <th>Age</th>\n",
       "      <th>height</th>\n",
       "      <th>weight</th>\n",
       "      <th>BMIc</th>\n",
       "      <th>BMI_Percentile</th>\n",
       "      <th>BMC_perecent_481</th>\n",
       "      <th>Patient_is_Overwiegh</th>\n",
       "      <th>Obesity_identified</th>\n",
       "      <th>Phy_Action</th>\n",
       "      <th>Physicians_Actions_other</th>\n",
       "      <th>Age10yrs</th>\n",
       "      <th>Diagnosis</th>\n",
       "      <th>Diagnosis_other</th>\n",
       "      <th>bmi_class</th>\n",
       "    </tr>\n",
       "  </thead>\n",
       "  <tbody>\n",
       "    <tr>\n",
       "      <th>0</th>\n",
       "      <td>Primary Care Center</td>\n",
       "      <td>Female</td>\n",
       "      <td>14</td>\n",
       "      <td>NaN</td>\n",
       "      <td>83.0</td>\n",
       "      <td>NaN</td>\n",
       "      <td>95+</td>\n",
       "      <td>NaN</td>\n",
       "      <td>No</td>\n",
       "      <td>NaN</td>\n",
       "      <td>NaN</td>\n",
       "      <td></td>\n",
       "      <td>over 10 years-adolescents</td>\n",
       "      <td>Upper Respir</td>\n",
       "      <td>NaN</td>\n",
       "      <td>Obese</td>\n",
       "    </tr>\n",
       "    <tr>\n",
       "      <th>1</th>\n",
       "      <td>Primary Care Center</td>\n",
       "      <td>Female</td>\n",
       "      <td>13</td>\n",
       "      <td>NaN</td>\n",
       "      <td>42.0</td>\n",
       "      <td>NaN</td>\n",
       "      <td>5 to &lt;85</td>\n",
       "      <td>NaN</td>\n",
       "      <td>No</td>\n",
       "      <td>NaN</td>\n",
       "      <td>NaN</td>\n",
       "      <td></td>\n",
       "      <td>over 10 years-adolescents</td>\n",
       "      <td>Gastroenteri</td>\n",
       "      <td>NaN</td>\n",
       "      <td>Normal weight</td>\n",
       "    </tr>\n",
       "    <tr>\n",
       "      <th>2</th>\n",
       "      <td>Primary Care Center</td>\n",
       "      <td>Male</td>\n",
       "      <td>14</td>\n",
       "      <td>NaN</td>\n",
       "      <td>46.1</td>\n",
       "      <td>NaN</td>\n",
       "      <td>5 to &lt;85</td>\n",
       "      <td>NaN</td>\n",
       "      <td>No</td>\n",
       "      <td>NaN</td>\n",
       "      <td>NaN</td>\n",
       "      <td></td>\n",
       "      <td>over 10 years-adolescents</td>\n",
       "      <td>Other</td>\n",
       "      <td>Leg trauma</td>\n",
       "      <td>Normal weight</td>\n",
       "    </tr>\n",
       "    <tr>\n",
       "      <th>3</th>\n",
       "      <td>Primary Care Center</td>\n",
       "      <td>Male</td>\n",
       "      <td>14</td>\n",
       "      <td>NaN</td>\n",
       "      <td>67.0</td>\n",
       "      <td>NaN</td>\n",
       "      <td>85 to &lt;95</td>\n",
       "      <td>NaN</td>\n",
       "      <td>Yes</td>\n",
       "      <td>NaN</td>\n",
       "      <td>NaN</td>\n",
       "      <td></td>\n",
       "      <td>over 10 years-adolescents</td>\n",
       "      <td>Gastroenteri</td>\n",
       "      <td>NaN</td>\n",
       "      <td>Overweight</td>\n",
       "    </tr>\n",
       "    <tr>\n",
       "      <th>4</th>\n",
       "      <td>Primary Care Center</td>\n",
       "      <td>Female</td>\n",
       "      <td>13</td>\n",
       "      <td>156.0</td>\n",
       "      <td>49.0</td>\n",
       "      <td>20.134779</td>\n",
       "      <td>5 to &lt;85</td>\n",
       "      <td>2.0</td>\n",
       "      <td>No</td>\n",
       "      <td>NaN</td>\n",
       "      <td>NaN</td>\n",
       "      <td></td>\n",
       "      <td>over 10 years-adolescents</td>\n",
       "      <td>Other</td>\n",
       "      <td>Vertigo</td>\n",
       "      <td>Normal weight</td>\n",
       "    </tr>\n",
       "  </tbody>\n",
       "</table>\n",
       "</div>"
      ],
      "text/plain": [
       "       Patient_seen_at  Gender  Age  height  weight       BMIc BMI_Percentile  \\\n",
       "0  Primary Care Center  Female   14     NaN    83.0        NaN            95+   \n",
       "1  Primary Care Center  Female   13     NaN    42.0        NaN       5 to <85   \n",
       "2  Primary Care Center    Male   14     NaN    46.1        NaN       5 to <85   \n",
       "3  Primary Care Center    Male   14     NaN    67.0        NaN      85 to <95   \n",
       "4  Primary Care Center  Female   13   156.0    49.0  20.134779       5 to <85   \n",
       "\n",
       "   BMC_perecent_481 Patient_is_Overwiegh Obesity_identified Phy_Action  \\\n",
       "0               NaN                   No                NaN        NaN   \n",
       "1               NaN                   No                NaN        NaN   \n",
       "2               NaN                   No                NaN        NaN   \n",
       "3               NaN                  Yes                NaN        NaN   \n",
       "4               2.0                   No                NaN        NaN   \n",
       "\n",
       "  Physicians_Actions_other                   Age10yrs     Diagnosis  \\\n",
       "0                           over 10 years-adolescents  Upper Respir   \n",
       "1                           over 10 years-adolescents  Gastroenteri   \n",
       "2                           over 10 years-adolescents         Other   \n",
       "3                           over 10 years-adolescents  Gastroenteri   \n",
       "4                           over 10 years-adolescents         Other   \n",
       "\n",
       "  Diagnosis_other      bmi_class  \n",
       "0             NaN          Obese  \n",
       "1             NaN  Normal weight  \n",
       "2      Leg trauma  Normal weight  \n",
       "3             NaN     Overweight  \n",
       "4         Vertigo  Normal weight  "
      ]
     },
     "execution_count": 15,
     "metadata": {},
     "output_type": "execute_result"
    }
   ],
   "source": [
    "# create a function\n",
    "def is_overweight(bmi_class):\n",
    "    if bmi_class == 'Overweight':\n",
    "        return 'Yes'\n",
    "    else:\n",
    "        return 'No'\n",
    "\n",
    "# create a new column based on condition\n",
    "df['Patient_is_Overwiegh'] = df['bmi_class'].apply(is_overweight)\n",
    "# display the dataframe\n",
    "df.head()"
   ]
  },
  {
   "cell_type": "markdown",
   "metadata": {
    "id": "Ks8L1TTAbXlZ"
   },
   "source": [
    "### Is Obese?"
   ]
  },
  {
   "cell_type": "code",
   "execution_count": 16,
   "metadata": {
    "colab": {
     "base_uri": "https://localhost:8080/",
     "height": 444
    },
    "id": "d4Ku96yA59wG",
    "outputId": "683ac732-d03c-48c1-c733-dcc78d7b304f"
   },
   "outputs": [
    {
     "data": {
      "text/html": [
       "<div>\n",
       "<style scoped>\n",
       "    .dataframe tbody tr th:only-of-type {\n",
       "        vertical-align: middle;\n",
       "    }\n",
       "\n",
       "    .dataframe tbody tr th {\n",
       "        vertical-align: top;\n",
       "    }\n",
       "\n",
       "    .dataframe thead th {\n",
       "        text-align: right;\n",
       "    }\n",
       "</style>\n",
       "<table border=\"1\" class=\"dataframe\">\n",
       "  <thead>\n",
       "    <tr style=\"text-align: right;\">\n",
       "      <th></th>\n",
       "      <th>Patient_seen_at</th>\n",
       "      <th>Gender</th>\n",
       "      <th>Age</th>\n",
       "      <th>height</th>\n",
       "      <th>weight</th>\n",
       "      <th>BMIc</th>\n",
       "      <th>BMI_Percentile</th>\n",
       "      <th>BMC_perecent_481</th>\n",
       "      <th>Patient_is_Overwiegh</th>\n",
       "      <th>Obesity_identified</th>\n",
       "      <th>Phy_Action</th>\n",
       "      <th>Physicians_Actions_other</th>\n",
       "      <th>Age10yrs</th>\n",
       "      <th>Diagnosis</th>\n",
       "      <th>Diagnosis_other</th>\n",
       "      <th>bmi_class</th>\n",
       "    </tr>\n",
       "  </thead>\n",
       "  <tbody>\n",
       "    <tr>\n",
       "      <th>0</th>\n",
       "      <td>Primary Care Center</td>\n",
       "      <td>Female</td>\n",
       "      <td>14</td>\n",
       "      <td>NaN</td>\n",
       "      <td>83.0</td>\n",
       "      <td>NaN</td>\n",
       "      <td>95+</td>\n",
       "      <td>NaN</td>\n",
       "      <td>No</td>\n",
       "      <td>Yes</td>\n",
       "      <td>NaN</td>\n",
       "      <td></td>\n",
       "      <td>over 10 years-adolescents</td>\n",
       "      <td>Upper Respir</td>\n",
       "      <td>NaN</td>\n",
       "      <td>Obese</td>\n",
       "    </tr>\n",
       "    <tr>\n",
       "      <th>1</th>\n",
       "      <td>Primary Care Center</td>\n",
       "      <td>Female</td>\n",
       "      <td>13</td>\n",
       "      <td>NaN</td>\n",
       "      <td>42.0</td>\n",
       "      <td>NaN</td>\n",
       "      <td>5 to &lt;85</td>\n",
       "      <td>NaN</td>\n",
       "      <td>No</td>\n",
       "      <td>No</td>\n",
       "      <td>NaN</td>\n",
       "      <td></td>\n",
       "      <td>over 10 years-adolescents</td>\n",
       "      <td>Gastroenteri</td>\n",
       "      <td>NaN</td>\n",
       "      <td>Normal weight</td>\n",
       "    </tr>\n",
       "    <tr>\n",
       "      <th>2</th>\n",
       "      <td>Primary Care Center</td>\n",
       "      <td>Male</td>\n",
       "      <td>14</td>\n",
       "      <td>NaN</td>\n",
       "      <td>46.1</td>\n",
       "      <td>NaN</td>\n",
       "      <td>5 to &lt;85</td>\n",
       "      <td>NaN</td>\n",
       "      <td>No</td>\n",
       "      <td>No</td>\n",
       "      <td>NaN</td>\n",
       "      <td></td>\n",
       "      <td>over 10 years-adolescents</td>\n",
       "      <td>Other</td>\n",
       "      <td>Leg trauma</td>\n",
       "      <td>Normal weight</td>\n",
       "    </tr>\n",
       "    <tr>\n",
       "      <th>3</th>\n",
       "      <td>Primary Care Center</td>\n",
       "      <td>Male</td>\n",
       "      <td>14</td>\n",
       "      <td>NaN</td>\n",
       "      <td>67.0</td>\n",
       "      <td>NaN</td>\n",
       "      <td>85 to &lt;95</td>\n",
       "      <td>NaN</td>\n",
       "      <td>Yes</td>\n",
       "      <td>No</td>\n",
       "      <td>NaN</td>\n",
       "      <td></td>\n",
       "      <td>over 10 years-adolescents</td>\n",
       "      <td>Gastroenteri</td>\n",
       "      <td>NaN</td>\n",
       "      <td>Overweight</td>\n",
       "    </tr>\n",
       "    <tr>\n",
       "      <th>4</th>\n",
       "      <td>Primary Care Center</td>\n",
       "      <td>Female</td>\n",
       "      <td>13</td>\n",
       "      <td>156.0</td>\n",
       "      <td>49.0</td>\n",
       "      <td>20.134779</td>\n",
       "      <td>5 to &lt;85</td>\n",
       "      <td>2.0</td>\n",
       "      <td>No</td>\n",
       "      <td>No</td>\n",
       "      <td>NaN</td>\n",
       "      <td></td>\n",
       "      <td>over 10 years-adolescents</td>\n",
       "      <td>Other</td>\n",
       "      <td>Vertigo</td>\n",
       "      <td>Normal weight</td>\n",
       "    </tr>\n",
       "  </tbody>\n",
       "</table>\n",
       "</div>"
      ],
      "text/plain": [
       "       Patient_seen_at  Gender  Age  height  weight       BMIc BMI_Percentile  \\\n",
       "0  Primary Care Center  Female   14     NaN    83.0        NaN            95+   \n",
       "1  Primary Care Center  Female   13     NaN    42.0        NaN       5 to <85   \n",
       "2  Primary Care Center    Male   14     NaN    46.1        NaN       5 to <85   \n",
       "3  Primary Care Center    Male   14     NaN    67.0        NaN      85 to <95   \n",
       "4  Primary Care Center  Female   13   156.0    49.0  20.134779       5 to <85   \n",
       "\n",
       "   BMC_perecent_481 Patient_is_Overwiegh Obesity_identified Phy_Action  \\\n",
       "0               NaN                   No                Yes        NaN   \n",
       "1               NaN                   No                 No        NaN   \n",
       "2               NaN                   No                 No        NaN   \n",
       "3               NaN                  Yes                 No        NaN   \n",
       "4               2.0                   No                 No        NaN   \n",
       "\n",
       "  Physicians_Actions_other                   Age10yrs     Diagnosis  \\\n",
       "0                           over 10 years-adolescents  Upper Respir   \n",
       "1                           over 10 years-adolescents  Gastroenteri   \n",
       "2                           over 10 years-adolescents         Other   \n",
       "3                           over 10 years-adolescents  Gastroenteri   \n",
       "4                           over 10 years-adolescents         Other   \n",
       "\n",
       "  Diagnosis_other      bmi_class  \n",
       "0             NaN          Obese  \n",
       "1             NaN  Normal weight  \n",
       "2      Leg trauma  Normal weight  \n",
       "3             NaN     Overweight  \n",
       "4         Vertigo  Normal weight  "
      ]
     },
     "execution_count": 16,
     "metadata": {},
     "output_type": "execute_result"
    }
   ],
   "source": [
    "# create a function\n",
    "def is_obese(bmi_class):\n",
    "    if bmi_class == 'Obese':\n",
    "        return 'Yes'\n",
    "    else: \n",
    "        return 'No'\n",
    "\n",
    "# create a new column based on condition\n",
    "df['Obesity_identified'] = df['bmi_class'].apply(is_obese)\n",
    "# display the dataframe\n",
    "df.head()"
   ]
  },
  {
   "cell_type": "code",
   "execution_count": 17,
   "metadata": {
    "colab": {
     "base_uri": "https://localhost:8080/"
    },
    "id": "EzHHqd4b6dH0",
    "outputId": "baff807f-46cb-4b81-e06b-a074fcefe08a"
   },
   "outputs": [
    {
     "name": "stdout",
     "output_type": "stream",
     "text": [
      "Patient_is_Overwiegh\n",
      "No     503\n",
      "Yes     49\n",
      "dtype: int64\n",
      "Obesity_identified\n",
      "No     493\n",
      "Yes     59\n",
      "dtype: int64\n"
     ]
    }
   ],
   "source": [
    "print(df.groupby('Patient_is_Overwiegh').size())\n",
    "print(df.groupby('Obesity_identified').size())\n"
   ]
  },
  {
   "cell_type": "markdown",
   "metadata": {
    "id": "8RQoiqRMbbpx"
   },
   "source": [
    "### Over/Below Age 10?"
   ]
  },
  {
   "cell_type": "code",
   "execution_count": 18,
   "metadata": {
    "colab": {
     "base_uri": "https://localhost:8080/",
     "height": 357
    },
    "id": "oFaLC7dSPB_X",
    "outputId": "67c1a882-64d5-4998-810d-bd9cec0180e7"
   },
   "outputs": [
    {
     "data": {
      "text/html": [
       "<div>\n",
       "<style scoped>\n",
       "    .dataframe tbody tr th:only-of-type {\n",
       "        vertical-align: middle;\n",
       "    }\n",
       "\n",
       "    .dataframe tbody tr th {\n",
       "        vertical-align: top;\n",
       "    }\n",
       "\n",
       "    .dataframe thead th {\n",
       "        text-align: right;\n",
       "    }\n",
       "</style>\n",
       "<table border=\"1\" class=\"dataframe\">\n",
       "  <thead>\n",
       "    <tr style=\"text-align: right;\">\n",
       "      <th></th>\n",
       "      <th>Patient_seen_at</th>\n",
       "      <th>Gender</th>\n",
       "      <th>Age</th>\n",
       "      <th>height</th>\n",
       "      <th>weight</th>\n",
       "      <th>BMIc</th>\n",
       "      <th>BMI_Percentile</th>\n",
       "      <th>BMC_perecent_481</th>\n",
       "      <th>Patient_is_Overwiegh</th>\n",
       "      <th>Obesity_identified</th>\n",
       "      <th>Phy_Action</th>\n",
       "      <th>Physicians_Actions_other</th>\n",
       "      <th>Age10yrs</th>\n",
       "      <th>Diagnosis</th>\n",
       "      <th>Diagnosis_other</th>\n",
       "      <th>bmi_class</th>\n",
       "    </tr>\n",
       "  </thead>\n",
       "  <tbody>\n",
       "    <tr>\n",
       "      <th>0</th>\n",
       "      <td>Primary Care Center</td>\n",
       "      <td>Female</td>\n",
       "      <td>14</td>\n",
       "      <td>NaN</td>\n",
       "      <td>83.0</td>\n",
       "      <td>NaN</td>\n",
       "      <td>95+</td>\n",
       "      <td>NaN</td>\n",
       "      <td>No</td>\n",
       "      <td>Yes</td>\n",
       "      <td>NaN</td>\n",
       "      <td></td>\n",
       "      <td>1</td>\n",
       "      <td>Upper Respir</td>\n",
       "      <td>NaN</td>\n",
       "      <td>Obese</td>\n",
       "    </tr>\n",
       "    <tr>\n",
       "      <th>1</th>\n",
       "      <td>Primary Care Center</td>\n",
       "      <td>Female</td>\n",
       "      <td>13</td>\n",
       "      <td>NaN</td>\n",
       "      <td>42.0</td>\n",
       "      <td>NaN</td>\n",
       "      <td>5 to &lt;85</td>\n",
       "      <td>NaN</td>\n",
       "      <td>No</td>\n",
       "      <td>No</td>\n",
       "      <td>NaN</td>\n",
       "      <td></td>\n",
       "      <td>1</td>\n",
       "      <td>Gastroenteri</td>\n",
       "      <td>NaN</td>\n",
       "      <td>Normal weight</td>\n",
       "    </tr>\n",
       "    <tr>\n",
       "      <th>2</th>\n",
       "      <td>Primary Care Center</td>\n",
       "      <td>Male</td>\n",
       "      <td>14</td>\n",
       "      <td>NaN</td>\n",
       "      <td>46.1</td>\n",
       "      <td>NaN</td>\n",
       "      <td>5 to &lt;85</td>\n",
       "      <td>NaN</td>\n",
       "      <td>No</td>\n",
       "      <td>No</td>\n",
       "      <td>NaN</td>\n",
       "      <td></td>\n",
       "      <td>1</td>\n",
       "      <td>Other</td>\n",
       "      <td>Leg trauma</td>\n",
       "      <td>Normal weight</td>\n",
       "    </tr>\n",
       "    <tr>\n",
       "      <th>3</th>\n",
       "      <td>Primary Care Center</td>\n",
       "      <td>Male</td>\n",
       "      <td>14</td>\n",
       "      <td>NaN</td>\n",
       "      <td>67.0</td>\n",
       "      <td>NaN</td>\n",
       "      <td>85 to &lt;95</td>\n",
       "      <td>NaN</td>\n",
       "      <td>Yes</td>\n",
       "      <td>No</td>\n",
       "      <td>NaN</td>\n",
       "      <td></td>\n",
       "      <td>1</td>\n",
       "      <td>Gastroenteri</td>\n",
       "      <td>NaN</td>\n",
       "      <td>Overweight</td>\n",
       "    </tr>\n",
       "    <tr>\n",
       "      <th>4</th>\n",
       "      <td>Primary Care Center</td>\n",
       "      <td>Female</td>\n",
       "      <td>13</td>\n",
       "      <td>156.0</td>\n",
       "      <td>49.0</td>\n",
       "      <td>20.134779</td>\n",
       "      <td>5 to &lt;85</td>\n",
       "      <td>2.0</td>\n",
       "      <td>No</td>\n",
       "      <td>No</td>\n",
       "      <td>NaN</td>\n",
       "      <td></td>\n",
       "      <td>1</td>\n",
       "      <td>Other</td>\n",
       "      <td>Vertigo</td>\n",
       "      <td>Normal weight</td>\n",
       "    </tr>\n",
       "  </tbody>\n",
       "</table>\n",
       "</div>"
      ],
      "text/plain": [
       "       Patient_seen_at  Gender  Age  height  weight       BMIc BMI_Percentile  \\\n",
       "0  Primary Care Center  Female   14     NaN    83.0        NaN            95+   \n",
       "1  Primary Care Center  Female   13     NaN    42.0        NaN       5 to <85   \n",
       "2  Primary Care Center    Male   14     NaN    46.1        NaN       5 to <85   \n",
       "3  Primary Care Center    Male   14     NaN    67.0        NaN      85 to <95   \n",
       "4  Primary Care Center  Female   13   156.0    49.0  20.134779       5 to <85   \n",
       "\n",
       "   BMC_perecent_481 Patient_is_Overwiegh Obesity_identified Phy_Action  \\\n",
       "0               NaN                   No                Yes        NaN   \n",
       "1               NaN                   No                 No        NaN   \n",
       "2               NaN                   No                 No        NaN   \n",
       "3               NaN                  Yes                 No        NaN   \n",
       "4               2.0                   No                 No        NaN   \n",
       "\n",
       "  Physicians_Actions_other  Age10yrs     Diagnosis Diagnosis_other  \\\n",
       "0                                  1  Upper Respir             NaN   \n",
       "1                                  1  Gastroenteri             NaN   \n",
       "2                                  1         Other      Leg trauma   \n",
       "3                                  1  Gastroenteri             NaN   \n",
       "4                                  1         Other         Vertigo   \n",
       "\n",
       "       bmi_class  \n",
       "0          Obese  \n",
       "1  Normal weight  \n",
       "2  Normal weight  \n",
       "3     Overweight  \n",
       "4  Normal weight  "
      ]
     },
     "execution_count": 18,
     "metadata": {},
     "output_type": "execute_result"
    }
   ],
   "source": [
    "# create a function\n",
    "def age_ten(age):\n",
    "    if  age == 'over 10 years-adolescents':\n",
    "        return 1\n",
    "    else: \n",
    "        return 0\n",
    "\n",
    "# Adjusts value of Age10yrs column\n",
    "df['Age10yrs'] = df['Age10yrs'].apply(age_ten)\n",
    "# display the dataframe\n",
    "df.head()"
   ]
  },
  {
   "cell_type": "code",
   "execution_count": 19,
   "metadata": {
    "colab": {
     "base_uri": "https://localhost:8080/",
     "height": 357
    },
    "id": "m0wt1KrvHZ2v",
    "outputId": "fb2f41a8-f1c1-433d-8fd2-532132d53578"
   },
   "outputs": [
    {
     "data": {
      "text/html": [
       "<div>\n",
       "<style scoped>\n",
       "    .dataframe tbody tr th:only-of-type {\n",
       "        vertical-align: middle;\n",
       "    }\n",
       "\n",
       "    .dataframe tbody tr th {\n",
       "        vertical-align: top;\n",
       "    }\n",
       "\n",
       "    .dataframe thead th {\n",
       "        text-align: right;\n",
       "    }\n",
       "</style>\n",
       "<table border=\"1\" class=\"dataframe\">\n",
       "  <thead>\n",
       "    <tr style=\"text-align: right;\">\n",
       "      <th></th>\n",
       "      <th>Patient_seen_at</th>\n",
       "      <th>Gender</th>\n",
       "      <th>Age</th>\n",
       "      <th>height</th>\n",
       "      <th>weight</th>\n",
       "      <th>BMIc</th>\n",
       "      <th>BMI_Percentile</th>\n",
       "      <th>BMC_perecent_481</th>\n",
       "      <th>Patient_is_Overwiegh</th>\n",
       "      <th>Obesity_identified</th>\n",
       "      <th>Phy_Action</th>\n",
       "      <th>Physicians_Actions_other</th>\n",
       "      <th>Age10yrs</th>\n",
       "      <th>Diagnosis</th>\n",
       "      <th>Diagnosis_other</th>\n",
       "      <th>bmi_class</th>\n",
       "    </tr>\n",
       "  </thead>\n",
       "  <tbody>\n",
       "    <tr>\n",
       "      <th>0</th>\n",
       "      <td>Primary Care Center</td>\n",
       "      <td>Female</td>\n",
       "      <td>14</td>\n",
       "      <td>NaN</td>\n",
       "      <td>83.0</td>\n",
       "      <td>NaN</td>\n",
       "      <td>95+</td>\n",
       "      <td>NaN</td>\n",
       "      <td>No</td>\n",
       "      <td>Yes</td>\n",
       "      <td>NaN</td>\n",
       "      <td></td>\n",
       "      <td>1</td>\n",
       "      <td>Upper Respir</td>\n",
       "      <td>NaN</td>\n",
       "      <td>Obese</td>\n",
       "    </tr>\n",
       "    <tr>\n",
       "      <th>1</th>\n",
       "      <td>Primary Care Center</td>\n",
       "      <td>Female</td>\n",
       "      <td>13</td>\n",
       "      <td>NaN</td>\n",
       "      <td>42.0</td>\n",
       "      <td>NaN</td>\n",
       "      <td>5 to &lt;85</td>\n",
       "      <td>NaN</td>\n",
       "      <td>No</td>\n",
       "      <td>No</td>\n",
       "      <td>NaN</td>\n",
       "      <td></td>\n",
       "      <td>1</td>\n",
       "      <td>Gastroenteri</td>\n",
       "      <td>NaN</td>\n",
       "      <td>Normal weight</td>\n",
       "    </tr>\n",
       "    <tr>\n",
       "      <th>2</th>\n",
       "      <td>Primary Care Center</td>\n",
       "      <td>Male</td>\n",
       "      <td>14</td>\n",
       "      <td>NaN</td>\n",
       "      <td>46.1</td>\n",
       "      <td>NaN</td>\n",
       "      <td>5 to &lt;85</td>\n",
       "      <td>NaN</td>\n",
       "      <td>No</td>\n",
       "      <td>No</td>\n",
       "      <td>NaN</td>\n",
       "      <td></td>\n",
       "      <td>1</td>\n",
       "      <td>Other</td>\n",
       "      <td>Leg trauma</td>\n",
       "      <td>Normal weight</td>\n",
       "    </tr>\n",
       "    <tr>\n",
       "      <th>3</th>\n",
       "      <td>Primary Care Center</td>\n",
       "      <td>Male</td>\n",
       "      <td>14</td>\n",
       "      <td>NaN</td>\n",
       "      <td>67.0</td>\n",
       "      <td>NaN</td>\n",
       "      <td>85 to &lt;95</td>\n",
       "      <td>NaN</td>\n",
       "      <td>Yes</td>\n",
       "      <td>No</td>\n",
       "      <td>NaN</td>\n",
       "      <td></td>\n",
       "      <td>1</td>\n",
       "      <td>Gastroenteri</td>\n",
       "      <td>NaN</td>\n",
       "      <td>Overweight</td>\n",
       "    </tr>\n",
       "    <tr>\n",
       "      <th>4</th>\n",
       "      <td>Primary Care Center</td>\n",
       "      <td>Female</td>\n",
       "      <td>13</td>\n",
       "      <td>156.0</td>\n",
       "      <td>49.0</td>\n",
       "      <td>20.134779</td>\n",
       "      <td>5 to &lt;85</td>\n",
       "      <td>2.0</td>\n",
       "      <td>No</td>\n",
       "      <td>No</td>\n",
       "      <td>NaN</td>\n",
       "      <td></td>\n",
       "      <td>1</td>\n",
       "      <td>Other</td>\n",
       "      <td>Vertigo</td>\n",
       "      <td>Normal weight</td>\n",
       "    </tr>\n",
       "  </tbody>\n",
       "</table>\n",
       "</div>"
      ],
      "text/plain": [
       "       Patient_seen_at  Gender  Age  height  weight       BMIc BMI_Percentile  \\\n",
       "0  Primary Care Center  Female   14     NaN    83.0        NaN            95+   \n",
       "1  Primary Care Center  Female   13     NaN    42.0        NaN       5 to <85   \n",
       "2  Primary Care Center    Male   14     NaN    46.1        NaN       5 to <85   \n",
       "3  Primary Care Center    Male   14     NaN    67.0        NaN      85 to <95   \n",
       "4  Primary Care Center  Female   13   156.0    49.0  20.134779       5 to <85   \n",
       "\n",
       "   BMC_perecent_481 Patient_is_Overwiegh Obesity_identified Phy_Action  \\\n",
       "0               NaN                   No                Yes        NaN   \n",
       "1               NaN                   No                 No        NaN   \n",
       "2               NaN                   No                 No        NaN   \n",
       "3               NaN                  Yes                 No        NaN   \n",
       "4               2.0                   No                 No        NaN   \n",
       "\n",
       "  Physicians_Actions_other  Age10yrs     Diagnosis Diagnosis_other  \\\n",
       "0                                  1  Upper Respir             NaN   \n",
       "1                                  1  Gastroenteri             NaN   \n",
       "2                                  1         Other      Leg trauma   \n",
       "3                                  1  Gastroenteri             NaN   \n",
       "4                                  1         Other         Vertigo   \n",
       "\n",
       "       bmi_class  \n",
       "0          Obese  \n",
       "1  Normal weight  \n",
       "2  Normal weight  \n",
       "3     Overweight  \n",
       "4  Normal weight  "
      ]
     },
     "execution_count": 19,
     "metadata": {},
     "output_type": "execute_result"
    }
   ],
   "source": [
    "df.head()"
   ]
  },
  {
   "cell_type": "markdown",
   "metadata": {
    "id": "QHzoBtA4bhY2"
   },
   "source": [
    "### Imputing the height column"
   ]
  },
  {
   "cell_type": "code",
   "execution_count": 20,
   "metadata": {
    "colab": {
     "base_uri": "https://localhost:8080/",
     "height": 357
    },
    "id": "vwXH-6H0DLH7",
    "outputId": "f6d9fca2-c978-43aa-cf63-05b63207d203"
   },
   "outputs": [
    {
     "data": {
      "text/html": [
       "<div>\n",
       "<style scoped>\n",
       "    .dataframe tbody tr th:only-of-type {\n",
       "        vertical-align: middle;\n",
       "    }\n",
       "\n",
       "    .dataframe tbody tr th {\n",
       "        vertical-align: top;\n",
       "    }\n",
       "\n",
       "    .dataframe thead th {\n",
       "        text-align: right;\n",
       "    }\n",
       "</style>\n",
       "<table border=\"1\" class=\"dataframe\">\n",
       "  <thead>\n",
       "    <tr style=\"text-align: right;\">\n",
       "      <th></th>\n",
       "      <th>Patient_seen_at</th>\n",
       "      <th>Gender</th>\n",
       "      <th>Age</th>\n",
       "      <th>height</th>\n",
       "      <th>weight</th>\n",
       "      <th>BMIc</th>\n",
       "      <th>BMI_Percentile</th>\n",
       "      <th>BMC_perecent_481</th>\n",
       "      <th>Patient_is_Overwiegh</th>\n",
       "      <th>Obesity_identified</th>\n",
       "      <th>Phy_Action</th>\n",
       "      <th>Physicians_Actions_other</th>\n",
       "      <th>Age10yrs</th>\n",
       "      <th>Diagnosis</th>\n",
       "      <th>Diagnosis_other</th>\n",
       "      <th>bmi_class</th>\n",
       "    </tr>\n",
       "  </thead>\n",
       "  <tbody>\n",
       "    <tr>\n",
       "      <th>0</th>\n",
       "      <td>Primary Care Center</td>\n",
       "      <td>Female</td>\n",
       "      <td>14</td>\n",
       "      <td>129.631809</td>\n",
       "      <td>83.0</td>\n",
       "      <td>NaN</td>\n",
       "      <td>95+</td>\n",
       "      <td>NaN</td>\n",
       "      <td>No</td>\n",
       "      <td>Yes</td>\n",
       "      <td>NaN</td>\n",
       "      <td></td>\n",
       "      <td>1</td>\n",
       "      <td>Upper Respir</td>\n",
       "      <td>NaN</td>\n",
       "      <td>Obese</td>\n",
       "    </tr>\n",
       "    <tr>\n",
       "      <th>1</th>\n",
       "      <td>Primary Care Center</td>\n",
       "      <td>Female</td>\n",
       "      <td>13</td>\n",
       "      <td>129.631809</td>\n",
       "      <td>42.0</td>\n",
       "      <td>NaN</td>\n",
       "      <td>5 to &lt;85</td>\n",
       "      <td>NaN</td>\n",
       "      <td>No</td>\n",
       "      <td>No</td>\n",
       "      <td>NaN</td>\n",
       "      <td></td>\n",
       "      <td>1</td>\n",
       "      <td>Gastroenteri</td>\n",
       "      <td>NaN</td>\n",
       "      <td>Normal weight</td>\n",
       "    </tr>\n",
       "    <tr>\n",
       "      <th>2</th>\n",
       "      <td>Primary Care Center</td>\n",
       "      <td>Male</td>\n",
       "      <td>14</td>\n",
       "      <td>129.631809</td>\n",
       "      <td>46.1</td>\n",
       "      <td>NaN</td>\n",
       "      <td>5 to &lt;85</td>\n",
       "      <td>NaN</td>\n",
       "      <td>No</td>\n",
       "      <td>No</td>\n",
       "      <td>NaN</td>\n",
       "      <td></td>\n",
       "      <td>1</td>\n",
       "      <td>Other</td>\n",
       "      <td>Leg trauma</td>\n",
       "      <td>Normal weight</td>\n",
       "    </tr>\n",
       "    <tr>\n",
       "      <th>3</th>\n",
       "      <td>Primary Care Center</td>\n",
       "      <td>Male</td>\n",
       "      <td>14</td>\n",
       "      <td>129.631809</td>\n",
       "      <td>67.0</td>\n",
       "      <td>NaN</td>\n",
       "      <td>85 to &lt;95</td>\n",
       "      <td>NaN</td>\n",
       "      <td>Yes</td>\n",
       "      <td>No</td>\n",
       "      <td>NaN</td>\n",
       "      <td></td>\n",
       "      <td>1</td>\n",
       "      <td>Gastroenteri</td>\n",
       "      <td>NaN</td>\n",
       "      <td>Overweight</td>\n",
       "    </tr>\n",
       "    <tr>\n",
       "      <th>4</th>\n",
       "      <td>Primary Care Center</td>\n",
       "      <td>Female</td>\n",
       "      <td>13</td>\n",
       "      <td>156.000000</td>\n",
       "      <td>49.0</td>\n",
       "      <td>20.134779</td>\n",
       "      <td>5 to &lt;85</td>\n",
       "      <td>2.0</td>\n",
       "      <td>No</td>\n",
       "      <td>No</td>\n",
       "      <td>NaN</td>\n",
       "      <td></td>\n",
       "      <td>1</td>\n",
       "      <td>Other</td>\n",
       "      <td>Vertigo</td>\n",
       "      <td>Normal weight</td>\n",
       "    </tr>\n",
       "  </tbody>\n",
       "</table>\n",
       "</div>"
      ],
      "text/plain": [
       "       Patient_seen_at  Gender  Age      height  weight       BMIc  \\\n",
       "0  Primary Care Center  Female   14  129.631809    83.0        NaN   \n",
       "1  Primary Care Center  Female   13  129.631809    42.0        NaN   \n",
       "2  Primary Care Center    Male   14  129.631809    46.1        NaN   \n",
       "3  Primary Care Center    Male   14  129.631809    67.0        NaN   \n",
       "4  Primary Care Center  Female   13  156.000000    49.0  20.134779   \n",
       "\n",
       "  BMI_Percentile  BMC_perecent_481 Patient_is_Overwiegh Obesity_identified  \\\n",
       "0            95+               NaN                   No                Yes   \n",
       "1       5 to <85               NaN                   No                 No   \n",
       "2       5 to <85               NaN                   No                 No   \n",
       "3      85 to <95               NaN                  Yes                 No   \n",
       "4       5 to <85               2.0                   No                 No   \n",
       "\n",
       "  Phy_Action Physicians_Actions_other  Age10yrs     Diagnosis Diagnosis_other  \\\n",
       "0        NaN                                  1  Upper Respir             NaN   \n",
       "1        NaN                                  1  Gastroenteri             NaN   \n",
       "2        NaN                                  1         Other      Leg trauma   \n",
       "3        NaN                                  1  Gastroenteri             NaN   \n",
       "4        NaN                                  1         Other         Vertigo   \n",
       "\n",
       "       bmi_class  \n",
       "0          Obese  \n",
       "1  Normal weight  \n",
       "2  Normal weight  \n",
       "3     Overweight  \n",
       "4  Normal weight  "
      ]
     },
     "execution_count": 20,
     "metadata": {},
     "output_type": "execute_result"
    }
   ],
   "source": [
    "# imputer\n",
    "from sklearn.impute import SimpleImputer, KNNImputer\n",
    "\n",
    "# initialize imputer\n",
    "imputer = SimpleImputer(strategy='mean')\n",
    "imputer = imputer.fit(df[['height']])\n",
    "df['height'] = imputer.transform(df[['height']])\n",
    "df.head()"
   ]
  },
  {
   "cell_type": "code",
   "execution_count": 21,
   "metadata": {
    "colab": {
     "base_uri": "https://localhost:8080/"
    },
    "id": "D5Ix128kDMop",
    "outputId": "49828126-410b-4057-b298-29d47725fd16"
   },
   "outputs": [
    {
     "data": {
      "text/plain": [
       "Patient_seen_at               0\n",
       "Gender                        0\n",
       "Age                           0\n",
       "height                        0\n",
       "weight                        0\n",
       "BMIc                         71\n",
       "BMI_Percentile                3\n",
       "BMC_perecent_481             71\n",
       "Patient_is_Overwiegh          0\n",
       "Obesity_identified            0\n",
       "Phy_Action                  535\n",
       "Physicians_Actions_other      0\n",
       "Age10yrs                      0\n",
       "Diagnosis                     0\n",
       "Diagnosis_other             385\n",
       "bmi_class                     0\n",
       "dtype: int64"
      ]
     },
     "execution_count": 21,
     "metadata": {},
     "output_type": "execute_result"
    }
   ],
   "source": [
    "df.isnull().sum()"
   ]
  },
  {
   "cell_type": "markdown",
   "metadata": {
    "id": "YZuJwNVHdDPw"
   },
   "source": [
    "### Calculating BMI"
   ]
  },
  {
   "cell_type": "code",
   "execution_count": 22,
   "metadata": {
    "colab": {
     "base_uri": "https://localhost:8080/",
     "height": 357
    },
    "id": "clAHiUQuH36_",
    "outputId": "ccbc3ad7-e470-4318-8b2e-9d5e0779366b"
   },
   "outputs": [
    {
     "data": {
      "text/html": [
       "<div>\n",
       "<style scoped>\n",
       "    .dataframe tbody tr th:only-of-type {\n",
       "        vertical-align: middle;\n",
       "    }\n",
       "\n",
       "    .dataframe tbody tr th {\n",
       "        vertical-align: top;\n",
       "    }\n",
       "\n",
       "    .dataframe thead th {\n",
       "        text-align: right;\n",
       "    }\n",
       "</style>\n",
       "<table border=\"1\" class=\"dataframe\">\n",
       "  <thead>\n",
       "    <tr style=\"text-align: right;\">\n",
       "      <th></th>\n",
       "      <th>Patient_seen_at</th>\n",
       "      <th>Gender</th>\n",
       "      <th>Age</th>\n",
       "      <th>height</th>\n",
       "      <th>weight</th>\n",
       "      <th>BMIc</th>\n",
       "      <th>BMI_Percentile</th>\n",
       "      <th>BMC_perecent_481</th>\n",
       "      <th>Patient_is_Overwiegh</th>\n",
       "      <th>Obesity_identified</th>\n",
       "      <th>Phy_Action</th>\n",
       "      <th>Physicians_Actions_other</th>\n",
       "      <th>Age10yrs</th>\n",
       "      <th>Diagnosis</th>\n",
       "      <th>Diagnosis_other</th>\n",
       "      <th>bmi_class</th>\n",
       "    </tr>\n",
       "  </thead>\n",
       "  <tbody>\n",
       "    <tr>\n",
       "      <th>0</th>\n",
       "      <td>Primary Care Center</td>\n",
       "      <td>Female</td>\n",
       "      <td>14</td>\n",
       "      <td>1.296318</td>\n",
       "      <td>83.0</td>\n",
       "      <td>49.391809</td>\n",
       "      <td>95+</td>\n",
       "      <td>NaN</td>\n",
       "      <td>No</td>\n",
       "      <td>Yes</td>\n",
       "      <td>NaN</td>\n",
       "      <td></td>\n",
       "      <td>1</td>\n",
       "      <td>Upper Respir</td>\n",
       "      <td>NaN</td>\n",
       "      <td>Obese</td>\n",
       "    </tr>\n",
       "    <tr>\n",
       "      <th>1</th>\n",
       "      <td>Primary Care Center</td>\n",
       "      <td>Female</td>\n",
       "      <td>13</td>\n",
       "      <td>1.296318</td>\n",
       "      <td>42.0</td>\n",
       "      <td>24.993445</td>\n",
       "      <td>5 to &lt;85</td>\n",
       "      <td>NaN</td>\n",
       "      <td>No</td>\n",
       "      <td>No</td>\n",
       "      <td>NaN</td>\n",
       "      <td></td>\n",
       "      <td>1</td>\n",
       "      <td>Gastroenteri</td>\n",
       "      <td>NaN</td>\n",
       "      <td>Normal weight</td>\n",
       "    </tr>\n",
       "    <tr>\n",
       "      <th>2</th>\n",
       "      <td>Primary Care Center</td>\n",
       "      <td>Male</td>\n",
       "      <td>14</td>\n",
       "      <td>1.296318</td>\n",
       "      <td>46.1</td>\n",
       "      <td>27.433282</td>\n",
       "      <td>5 to &lt;85</td>\n",
       "      <td>NaN</td>\n",
       "      <td>No</td>\n",
       "      <td>No</td>\n",
       "      <td>NaN</td>\n",
       "      <td></td>\n",
       "      <td>1</td>\n",
       "      <td>Other</td>\n",
       "      <td>Leg trauma</td>\n",
       "      <td>Normal weight</td>\n",
       "    </tr>\n",
       "    <tr>\n",
       "      <th>3</th>\n",
       "      <td>Primary Care Center</td>\n",
       "      <td>Male</td>\n",
       "      <td>14</td>\n",
       "      <td>1.296318</td>\n",
       "      <td>67.0</td>\n",
       "      <td>39.870496</td>\n",
       "      <td>85 to &lt;95</td>\n",
       "      <td>NaN</td>\n",
       "      <td>Yes</td>\n",
       "      <td>No</td>\n",
       "      <td>NaN</td>\n",
       "      <td></td>\n",
       "      <td>1</td>\n",
       "      <td>Gastroenteri</td>\n",
       "      <td>NaN</td>\n",
       "      <td>Overweight</td>\n",
       "    </tr>\n",
       "    <tr>\n",
       "      <th>4</th>\n",
       "      <td>Primary Care Center</td>\n",
       "      <td>Female</td>\n",
       "      <td>13</td>\n",
       "      <td>1.560000</td>\n",
       "      <td>49.0</td>\n",
       "      <td>20.134780</td>\n",
       "      <td>5 to &lt;85</td>\n",
       "      <td>2.0</td>\n",
       "      <td>No</td>\n",
       "      <td>No</td>\n",
       "      <td>NaN</td>\n",
       "      <td></td>\n",
       "      <td>1</td>\n",
       "      <td>Other</td>\n",
       "      <td>Vertigo</td>\n",
       "      <td>Normal weight</td>\n",
       "    </tr>\n",
       "  </tbody>\n",
       "</table>\n",
       "</div>"
      ],
      "text/plain": [
       "       Patient_seen_at  Gender  Age    height  weight       BMIc  \\\n",
       "0  Primary Care Center  Female   14  1.296318    83.0  49.391809   \n",
       "1  Primary Care Center  Female   13  1.296318    42.0  24.993445   \n",
       "2  Primary Care Center    Male   14  1.296318    46.1  27.433282   \n",
       "3  Primary Care Center    Male   14  1.296318    67.0  39.870496   \n",
       "4  Primary Care Center  Female   13  1.560000    49.0  20.134780   \n",
       "\n",
       "  BMI_Percentile  BMC_perecent_481 Patient_is_Overwiegh Obesity_identified  \\\n",
       "0            95+               NaN                   No                Yes   \n",
       "1       5 to <85               NaN                   No                 No   \n",
       "2       5 to <85               NaN                   No                 No   \n",
       "3      85 to <95               NaN                  Yes                 No   \n",
       "4       5 to <85               2.0                   No                 No   \n",
       "\n",
       "  Phy_Action Physicians_Actions_other  Age10yrs     Diagnosis Diagnosis_other  \\\n",
       "0        NaN                                  1  Upper Respir             NaN   \n",
       "1        NaN                                  1  Gastroenteri             NaN   \n",
       "2        NaN                                  1         Other      Leg trauma   \n",
       "3        NaN                                  1  Gastroenteri             NaN   \n",
       "4        NaN                                  1         Other         Vertigo   \n",
       "\n",
       "       bmi_class  \n",
       "0          Obese  \n",
       "1  Normal weight  \n",
       "2  Normal weight  \n",
       "3     Overweight  \n",
       "4  Normal weight  "
      ]
     },
     "execution_count": 22,
     "metadata": {},
     "output_type": "execute_result"
    }
   ],
   "source": [
    "from numpy import NaN\n",
    "import numpy as np\n",
    "import math\n",
    "\n",
    "for row in df.values:\n",
    "    if pd.isnull(df['BMIc'][1]):\n",
    "        df['height'] = df['height'] / 100.0\n",
    "        df['BMIc'] = df['weight'] / (df['height'] * df['height'])\n",
    "\n",
    "df.head()"
   ]
  },
  {
   "cell_type": "code",
   "execution_count": 23,
   "metadata": {
    "id": "IvUbK38RUL79"
   },
   "outputs": [],
   "source": [
    "df['BMI_Percentile'].isnull().sum()\n",
    "df = df[df['BMI_Percentile'].notna()] #instead of dropping, take another DF with non-na values"
   ]
  },
  {
   "cell_type": "code",
   "execution_count": 24,
   "metadata": {
    "id": "jSxnYuO0Yf2R"
   },
   "outputs": [],
   "source": [
    "# df.shape"
   ]
  },
  {
   "cell_type": "markdown",
   "metadata": {
    "id": "Mf-TLn8wdG9O"
   },
   "source": [
    "### Creating the predicting dataframe"
   ]
  },
  {
   "cell_type": "code",
   "execution_count": 25,
   "metadata": {
    "id": "D74MPojeFzHX"
   },
   "outputs": [],
   "source": [
    "df_pred = df"
   ]
  },
  {
   "cell_type": "code",
   "execution_count": 26,
   "metadata": {
    "colab": {
     "base_uri": "https://localhost:8080/"
    },
    "id": "bdlfy8yCG0KT",
    "outputId": "53a74405-32e8-4346-eac0-3dfd4a35ef31"
   },
   "outputs": [
    {
     "data": {
      "text/plain": [
       "(549, 16)"
      ]
     },
     "execution_count": 26,
     "metadata": {},
     "output_type": "execute_result"
    }
   ],
   "source": [
    "df_pred.shape"
   ]
  },
  {
   "cell_type": "code",
   "execution_count": 27,
   "metadata": {
    "colab": {
     "base_uri": "https://localhost:8080/"
    },
    "id": "kYrJ6I8IUthn",
    "outputId": "2ec62d08-f1be-41ad-e12e-77712c98f8dd"
   },
   "outputs": [],
   "source": [
    "df_pred.drop('Phy_Action', axis = 1, inplace = True)\n",
    "df_pred.drop('Physicians_Actions_other', axis = 1, inplace  = True)"
   ]
  },
  {
   "cell_type": "markdown",
   "metadata": {
    "id": "RYvh0CAaYhrJ"
   },
   "source": [
    "### Encoding"
   ]
  },
  {
   "cell_type": "code",
   "execution_count": 28,
   "metadata": {
    "colab": {
     "base_uri": "https://localhost:8080/",
     "height": 357
    },
    "id": "Uk-8QH1YYkTS",
    "outputId": "7da4116f-6058-41ec-a829-a80b44af4515"
   },
   "outputs": [
    {
     "data": {
      "text/html": [
       "<div>\n",
       "<style scoped>\n",
       "    .dataframe tbody tr th:only-of-type {\n",
       "        vertical-align: middle;\n",
       "    }\n",
       "\n",
       "    .dataframe tbody tr th {\n",
       "        vertical-align: top;\n",
       "    }\n",
       "\n",
       "    .dataframe thead th {\n",
       "        text-align: right;\n",
       "    }\n",
       "</style>\n",
       "<table border=\"1\" class=\"dataframe\">\n",
       "  <thead>\n",
       "    <tr style=\"text-align: right;\">\n",
       "      <th></th>\n",
       "      <th>Patient_seen_at</th>\n",
       "      <th>Gender</th>\n",
       "      <th>Age</th>\n",
       "      <th>height</th>\n",
       "      <th>weight</th>\n",
       "      <th>BMIc</th>\n",
       "      <th>BMI_Percentile</th>\n",
       "      <th>BMC_perecent_481</th>\n",
       "      <th>Patient_is_Overwiegh</th>\n",
       "      <th>Obesity_identified</th>\n",
       "      <th>Age10yrs</th>\n",
       "      <th>Diagnosis</th>\n",
       "      <th>Diagnosis_other</th>\n",
       "      <th>bmi_class</th>\n",
       "    </tr>\n",
       "  </thead>\n",
       "  <tbody>\n",
       "    <tr>\n",
       "      <th>0</th>\n",
       "      <td>Primary Care Center</td>\n",
       "      <td>Female</td>\n",
       "      <td>14</td>\n",
       "      <td>1.296318</td>\n",
       "      <td>83.0</td>\n",
       "      <td>49.391809</td>\n",
       "      <td>95+</td>\n",
       "      <td>NaN</td>\n",
       "      <td>No</td>\n",
       "      <td>Yes</td>\n",
       "      <td>1</td>\n",
       "      <td>Upper Respir</td>\n",
       "      <td>NaN</td>\n",
       "      <td>Obese</td>\n",
       "    </tr>\n",
       "    <tr>\n",
       "      <th>1</th>\n",
       "      <td>Primary Care Center</td>\n",
       "      <td>Female</td>\n",
       "      <td>13</td>\n",
       "      <td>1.296318</td>\n",
       "      <td>42.0</td>\n",
       "      <td>24.993445</td>\n",
       "      <td>5 to &lt;85</td>\n",
       "      <td>NaN</td>\n",
       "      <td>No</td>\n",
       "      <td>No</td>\n",
       "      <td>1</td>\n",
       "      <td>Gastroenteri</td>\n",
       "      <td>NaN</td>\n",
       "      <td>Normal weight</td>\n",
       "    </tr>\n",
       "    <tr>\n",
       "      <th>2</th>\n",
       "      <td>Primary Care Center</td>\n",
       "      <td>Male</td>\n",
       "      <td>14</td>\n",
       "      <td>1.296318</td>\n",
       "      <td>46.1</td>\n",
       "      <td>27.433282</td>\n",
       "      <td>5 to &lt;85</td>\n",
       "      <td>NaN</td>\n",
       "      <td>No</td>\n",
       "      <td>No</td>\n",
       "      <td>1</td>\n",
       "      <td>Other</td>\n",
       "      <td>Leg trauma</td>\n",
       "      <td>Normal weight</td>\n",
       "    </tr>\n",
       "    <tr>\n",
       "      <th>3</th>\n",
       "      <td>Primary Care Center</td>\n",
       "      <td>Male</td>\n",
       "      <td>14</td>\n",
       "      <td>1.296318</td>\n",
       "      <td>67.0</td>\n",
       "      <td>39.870496</td>\n",
       "      <td>85 to &lt;95</td>\n",
       "      <td>NaN</td>\n",
       "      <td>Yes</td>\n",
       "      <td>No</td>\n",
       "      <td>1</td>\n",
       "      <td>Gastroenteri</td>\n",
       "      <td>NaN</td>\n",
       "      <td>Overweight</td>\n",
       "    </tr>\n",
       "    <tr>\n",
       "      <th>4</th>\n",
       "      <td>Primary Care Center</td>\n",
       "      <td>Female</td>\n",
       "      <td>13</td>\n",
       "      <td>1.560000</td>\n",
       "      <td>49.0</td>\n",
       "      <td>20.134780</td>\n",
       "      <td>5 to &lt;85</td>\n",
       "      <td>2.0</td>\n",
       "      <td>No</td>\n",
       "      <td>No</td>\n",
       "      <td>1</td>\n",
       "      <td>Other</td>\n",
       "      <td>Vertigo</td>\n",
       "      <td>Normal weight</td>\n",
       "    </tr>\n",
       "  </tbody>\n",
       "</table>\n",
       "</div>"
      ],
      "text/plain": [
       "       Patient_seen_at  Gender  Age    height  weight       BMIc  \\\n",
       "0  Primary Care Center  Female   14  1.296318    83.0  49.391809   \n",
       "1  Primary Care Center  Female   13  1.296318    42.0  24.993445   \n",
       "2  Primary Care Center    Male   14  1.296318    46.1  27.433282   \n",
       "3  Primary Care Center    Male   14  1.296318    67.0  39.870496   \n",
       "4  Primary Care Center  Female   13  1.560000    49.0  20.134780   \n",
       "\n",
       "  BMI_Percentile  BMC_perecent_481 Patient_is_Overwiegh Obesity_identified  \\\n",
       "0            95+               NaN                   No                Yes   \n",
       "1       5 to <85               NaN                   No                 No   \n",
       "2       5 to <85               NaN                   No                 No   \n",
       "3      85 to <95               NaN                  Yes                 No   \n",
       "4       5 to <85               2.0                   No                 No   \n",
       "\n",
       "   Age10yrs     Diagnosis Diagnosis_other      bmi_class  \n",
       "0         1  Upper Respir             NaN          Obese  \n",
       "1         1  Gastroenteri             NaN  Normal weight  \n",
       "2         1         Other      Leg trauma  Normal weight  \n",
       "3         1  Gastroenteri             NaN     Overweight  \n",
       "4         1         Other         Vertigo  Normal weight  "
      ]
     },
     "execution_count": 28,
     "metadata": {},
     "output_type": "execute_result"
    }
   ],
   "source": [
    "df_pred.head()"
   ]
  },
  {
   "cell_type": "code",
   "execution_count": 29,
   "metadata": {
    "colab": {
     "base_uri": "https://localhost:8080/",
     "height": 1000
    },
    "id": "KapTwNLEYndQ",
    "outputId": "58850bcc-d691-4d06-8517-747dd37eee13"
   },
   "outputs": [
    {
     "data": {
      "text/html": [
       "<div>\n",
       "<style scoped>\n",
       "    .dataframe tbody tr th:only-of-type {\n",
       "        vertical-align: middle;\n",
       "    }\n",
       "\n",
       "    .dataframe tbody tr th {\n",
       "        vertical-align: top;\n",
       "    }\n",
       "\n",
       "    .dataframe thead th {\n",
       "        text-align: right;\n",
       "    }\n",
       "</style>\n",
       "<table border=\"1\" class=\"dataframe\">\n",
       "  <thead>\n",
       "    <tr style=\"text-align: right;\">\n",
       "      <th></th>\n",
       "      <th>Patient_seen_at</th>\n",
       "      <th>Gender</th>\n",
       "      <th>Age</th>\n",
       "      <th>height</th>\n",
       "      <th>weight</th>\n",
       "      <th>BMIc</th>\n",
       "      <th>BMI_Percentile</th>\n",
       "      <th>BMC_perecent_481</th>\n",
       "      <th>Patient_is_Overwiegh</th>\n",
       "      <th>Obesity_identified</th>\n",
       "      <th>Age10yrs</th>\n",
       "      <th>Diagnosis</th>\n",
       "      <th>Diagnosis_other</th>\n",
       "      <th>bmi_class</th>\n",
       "    </tr>\n",
       "  </thead>\n",
       "  <tbody>\n",
       "    <tr>\n",
       "      <th>0</th>\n",
       "      <td>1</td>\n",
       "      <td>0</td>\n",
       "      <td>14</td>\n",
       "      <td>1.296318</td>\n",
       "      <td>83.0</td>\n",
       "      <td>49.391809</td>\n",
       "      <td>2</td>\n",
       "      <td>NaN</td>\n",
       "      <td>0</td>\n",
       "      <td>1</td>\n",
       "      <td>1</td>\n",
       "      <td>15</td>\n",
       "      <td>113</td>\n",
       "      <td>Obese</td>\n",
       "    </tr>\n",
       "    <tr>\n",
       "      <th>1</th>\n",
       "      <td>1</td>\n",
       "      <td>0</td>\n",
       "      <td>13</td>\n",
       "      <td>1.296318</td>\n",
       "      <td>42.0</td>\n",
       "      <td>24.993445</td>\n",
       "      <td>0</td>\n",
       "      <td>NaN</td>\n",
       "      <td>0</td>\n",
       "      <td>0</td>\n",
       "      <td>1</td>\n",
       "      <td>8</td>\n",
       "      <td>113</td>\n",
       "      <td>Normal weight</td>\n",
       "    </tr>\n",
       "    <tr>\n",
       "      <th>2</th>\n",
       "      <td>1</td>\n",
       "      <td>1</td>\n",
       "      <td>14</td>\n",
       "      <td>1.296318</td>\n",
       "      <td>46.1</td>\n",
       "      <td>27.433282</td>\n",
       "      <td>0</td>\n",
       "      <td>NaN</td>\n",
       "      <td>0</td>\n",
       "      <td>0</td>\n",
       "      <td>1</td>\n",
       "      <td>12</td>\n",
       "      <td>63</td>\n",
       "      <td>Normal weight</td>\n",
       "    </tr>\n",
       "    <tr>\n",
       "      <th>3</th>\n",
       "      <td>1</td>\n",
       "      <td>1</td>\n",
       "      <td>14</td>\n",
       "      <td>1.296318</td>\n",
       "      <td>67.0</td>\n",
       "      <td>39.870496</td>\n",
       "      <td>1</td>\n",
       "      <td>NaN</td>\n",
       "      <td>1</td>\n",
       "      <td>0</td>\n",
       "      <td>1</td>\n",
       "      <td>8</td>\n",
       "      <td>113</td>\n",
       "      <td>Overweight</td>\n",
       "    </tr>\n",
       "    <tr>\n",
       "      <th>4</th>\n",
       "      <td>1</td>\n",
       "      <td>0</td>\n",
       "      <td>13</td>\n",
       "      <td>1.560000</td>\n",
       "      <td>49.0</td>\n",
       "      <td>20.134780</td>\n",
       "      <td>0</td>\n",
       "      <td>2.0</td>\n",
       "      <td>0</td>\n",
       "      <td>0</td>\n",
       "      <td>1</td>\n",
       "      <td>12</td>\n",
       "      <td>106</td>\n",
       "      <td>Normal weight</td>\n",
       "    </tr>\n",
       "  </tbody>\n",
       "</table>\n",
       "</div>"
      ],
      "text/plain": [
       "   Patient_seen_at  Gender  Age    height  weight       BMIc  BMI_Percentile  \\\n",
       "0                1       0   14  1.296318    83.0  49.391809               2   \n",
       "1                1       0   13  1.296318    42.0  24.993445               0   \n",
       "2                1       1   14  1.296318    46.1  27.433282               0   \n",
       "3                1       1   14  1.296318    67.0  39.870496               1   \n",
       "4                1       0   13  1.560000    49.0  20.134780               0   \n",
       "\n",
       "   BMC_perecent_481  Patient_is_Overwiegh  Obesity_identified  Age10yrs  \\\n",
       "0               NaN                     0                   1         1   \n",
       "1               NaN                     0                   0         1   \n",
       "2               NaN                     0                   0         1   \n",
       "3               NaN                     1                   0         1   \n",
       "4               2.0                     0                   0         1   \n",
       "\n",
       "   Diagnosis  Diagnosis_other      bmi_class  \n",
       "0         15              113          Obese  \n",
       "1          8              113  Normal weight  \n",
       "2         12               63  Normal weight  \n",
       "3          8              113     Overweight  \n",
       "4         12              106  Normal weight  "
      ]
     },
     "execution_count": 29,
     "metadata": {},
     "output_type": "execute_result"
    }
   ],
   "source": [
    "#Label Encoding on the categorical attributes\n",
    "from sklearn.preprocessing import LabelEncoder\n",
    "# creating instance of labelencoder\n",
    "labelencoder = LabelEncoder()\n",
    "#Assigning numerical values and storing in another column\n",
    "df_pred['Patient_seen_at'] = labelencoder.fit_transform(df_pred['Patient_seen_at'])\n",
    "df_pred['Gender'] = labelencoder.fit_transform(df_pred['Gender'])\n",
    "df_pred['BMI_Percentile'] = labelencoder.fit_transform(df_pred['BMI_Percentile'])\n",
    "df_pred['Patient_is_Overwiegh'] = labelencoder.fit_transform(df_pred['Patient_is_Overwiegh'])\n",
    "df_pred['Obesity_identified'] = labelencoder.fit_transform(df_pred['Obesity_identified'])\n",
    "df_pred['Age10yrs'] = labelencoder.fit_transform(df_pred['Age10yrs'])\n",
    "df_pred['Diagnosis'] = labelencoder.fit_transform(df_pred['Diagnosis'])\n",
    "df_pred['Diagnosis_other'] = labelencoder.fit_transform(df_pred['Diagnosis_other'])\n",
    "#df_pred['bmi_class'] = labelencoder.fit_transform(df_pred['bmi_class'])\n",
    "df_pred.head()\n"
   ]
  },
  {
   "cell_type": "markdown",
   "metadata": {
    "id": "PJHrWGLyw8T2"
   },
   "source": [
    "## Balancing using Oversampling"
   ]
  },
  {
   "cell_type": "code",
   "execution_count": 30,
   "metadata": {
    "colab": {
     "base_uri": "https://localhost:8080/",
     "height": 467
    },
    "id": "o_AR_4EM9uT5",
    "outputId": "f7bf4c14-7773-46ab-eb60-067301c8bb32"
   },
   "outputs": [
    {
     "name": "stdout",
     "output_type": "stream",
     "text": [
      "bmi_class\n",
      "Normal weight    336\n",
      "Obese             59\n",
      "Overweight        49\n",
      "Underweight      105\n",
      "dtype: int64\n"
     ]
    },
    {
     "data": {
      "text/plain": [
       "<AxesSubplot:xlabel='bmi_class'>"
      ]
     },
     "execution_count": 30,
     "metadata": {},
     "output_type": "execute_result"
    },
    {
     "data": {
      "image/png": "[encoded data removed]",
      "text/plain": [
       "<Figure size 432x288 with 1 Axes>"
      ]
     },
     "metadata": {
      "needs_background": "light"
     },
     "output_type": "display_data"
    }
   ],
   "source": [
    "# imbalanced class distribution\n",
    "print(df_pred.groupby('bmi_class').size())\n",
    "df_pred.groupby('bmi_class').size().plot(kind = 'bar', color = ['#bd12b9',\n",
    "                                                                 '#a151bd',\n",
    "                                                                 '#9416ef',\n",
    "                                                                 '#56cab7'])"
   ]
  },
  {
   "cell_type": "code",
   "execution_count": 31,
   "metadata": {
    "id": "ODi2IqWRwlXd"
   },
   "outputs": [],
   "source": [
    "df_balanced = df_pred\n",
    "df_balanced.drop(df.columns[7], axis = 1, inplace=True)"
   ]
  },
  {
   "cell_type": "code",
   "execution_count": 32,
   "metadata": {
    "id": "b_XqFRIRwovD"
   },
   "outputs": [],
   "source": [
    "features = []\n",
    "for feature in df_balanced.columns:\n",
    "    if feature != 'bmi_class':\n",
    "        features.append(feature)\n",
    "X = df_balanced[features]\n",
    "y = df_balanced['bmi_class']"
   ]
  },
  {
   "cell_type": "code",
   "execution_count": 33,
   "metadata": {
    "colab": {
     "base_uri": "https://localhost:8080/"
    },
    "id": "Ef5MLvHgwrLM",
    "outputId": "bf352117-9e12-455d-c800-2058c9749b2b"
   },
   "outputs": [
    {
     "name": "stdout",
     "output_type": "stream",
     "text": [
      "Original dataset shape Counter({'Normal weight': 336, 'Underweight': 105, 'Obese': 59, 'Overweight': 49})\n",
      "Resample dataset shape Counter({'Obese': 336, 'Normal weight': 336, 'Overweight': 336, 'Underweight': 336})\n"
     ]
    }
   ],
   "source": [
    "# import library\n",
    "from imblearn.over_sampling import RandomOverSampler\n",
    "from collections import Counter\n",
    "\n",
    "ros = RandomOverSampler(random_state=42)\n",
    "\n",
    "# fit predictor and target variable\n",
    "x_ros, y_ros = ros.fit_resample(X, y)\n",
    "\n",
    "print('Original dataset shape', Counter(y))\n",
    "print('Resample dataset shape', Counter(y_ros))"
   ]
  },
  {
   "cell_type": "code",
   "execution_count": 34,
   "metadata": {
    "colab": {
     "base_uri": "https://localhost:8080/",
     "height": 423
    },
    "id": "8T53ZuuNwuQN",
    "outputId": "f6c4e4f9-4b23-4d35-89e5-6ade3a6060ac"
   },
   "outputs": [
    {
     "data": {
      "text/html": [
       "<div>\n",
       "<style scoped>\n",
       "    .dataframe tbody tr th:only-of-type {\n",
       "        vertical-align: middle;\n",
       "    }\n",
       "\n",
       "    .dataframe tbody tr th {\n",
       "        vertical-align: top;\n",
       "    }\n",
       "\n",
       "    .dataframe thead th {\n",
       "        text-align: right;\n",
       "    }\n",
       "</style>\n",
       "<table border=\"1\" class=\"dataframe\">\n",
       "  <thead>\n",
       "    <tr style=\"text-align: right;\">\n",
       "      <th></th>\n",
       "      <th>Patient_seen_at</th>\n",
       "      <th>Gender</th>\n",
       "      <th>Age</th>\n",
       "      <th>height</th>\n",
       "      <th>weight</th>\n",
       "      <th>BMIc</th>\n",
       "      <th>BMI_Percentile</th>\n",
       "      <th>Patient_is_Overwiegh</th>\n",
       "      <th>Obesity_identified</th>\n",
       "      <th>Age10yrs</th>\n",
       "      <th>Diagnosis</th>\n",
       "      <th>Diagnosis_other</th>\n",
       "      <th>bmi_class</th>\n",
       "    </tr>\n",
       "  </thead>\n",
       "  <tbody>\n",
       "    <tr>\n",
       "      <th>0</th>\n",
       "      <td>1</td>\n",
       "      <td>0</td>\n",
       "      <td>14</td>\n",
       "      <td>1.296318</td>\n",
       "      <td>83.0</td>\n",
       "      <td>49.391809</td>\n",
       "      <td>2</td>\n",
       "      <td>0</td>\n",
       "      <td>1</td>\n",
       "      <td>1</td>\n",
       "      <td>15</td>\n",
       "      <td>113</td>\n",
       "      <td>Obese</td>\n",
       "    </tr>\n",
       "    <tr>\n",
       "      <th>1</th>\n",
       "      <td>1</td>\n",
       "      <td>0</td>\n",
       "      <td>13</td>\n",
       "      <td>1.296318</td>\n",
       "      <td>42.0</td>\n",
       "      <td>24.993445</td>\n",
       "      <td>0</td>\n",
       "      <td>0</td>\n",
       "      <td>0</td>\n",
       "      <td>1</td>\n",
       "      <td>8</td>\n",
       "      <td>113</td>\n",
       "      <td>Normal weight</td>\n",
       "    </tr>\n",
       "    <tr>\n",
       "      <th>2</th>\n",
       "      <td>1</td>\n",
       "      <td>1</td>\n",
       "      <td>14</td>\n",
       "      <td>1.296318</td>\n",
       "      <td>46.1</td>\n",
       "      <td>27.433282</td>\n",
       "      <td>0</td>\n",
       "      <td>0</td>\n",
       "      <td>0</td>\n",
       "      <td>1</td>\n",
       "      <td>12</td>\n",
       "      <td>63</td>\n",
       "      <td>Normal weight</td>\n",
       "    </tr>\n",
       "    <tr>\n",
       "      <th>3</th>\n",
       "      <td>1</td>\n",
       "      <td>1</td>\n",
       "      <td>14</td>\n",
       "      <td>1.296318</td>\n",
       "      <td>67.0</td>\n",
       "      <td>39.870496</td>\n",
       "      <td>1</td>\n",
       "      <td>1</td>\n",
       "      <td>0</td>\n",
       "      <td>1</td>\n",
       "      <td>8</td>\n",
       "      <td>113</td>\n",
       "      <td>Overweight</td>\n",
       "    </tr>\n",
       "    <tr>\n",
       "      <th>4</th>\n",
       "      <td>1</td>\n",
       "      <td>0</td>\n",
       "      <td>13</td>\n",
       "      <td>1.560000</td>\n",
       "      <td>49.0</td>\n",
       "      <td>20.134780</td>\n",
       "      <td>0</td>\n",
       "      <td>0</td>\n",
       "      <td>0</td>\n",
       "      <td>1</td>\n",
       "      <td>12</td>\n",
       "      <td>106</td>\n",
       "      <td>Normal weight</td>\n",
       "    </tr>\n",
       "    <tr>\n",
       "      <th>...</th>\n",
       "      <td>...</td>\n",
       "      <td>...</td>\n",
       "      <td>...</td>\n",
       "      <td>...</td>\n",
       "      <td>...</td>\n",
       "      <td>...</td>\n",
       "      <td>...</td>\n",
       "      <td>...</td>\n",
       "      <td>...</td>\n",
       "      <td>...</td>\n",
       "      <td>...</td>\n",
       "      <td>...</td>\n",
       "      <td>...</td>\n",
       "    </tr>\n",
       "    <tr>\n",
       "      <th>1339</th>\n",
       "      <td>0</td>\n",
       "      <td>0</td>\n",
       "      <td>7</td>\n",
       "      <td>1.175000</td>\n",
       "      <td>19.6</td>\n",
       "      <td>14.196469</td>\n",
       "      <td>3</td>\n",
       "      <td>0</td>\n",
       "      <td>0</td>\n",
       "      <td>0</td>\n",
       "      <td>0</td>\n",
       "      <td>113</td>\n",
       "      <td>Underweight</td>\n",
       "    </tr>\n",
       "    <tr>\n",
       "      <th>1340</th>\n",
       "      <td>1</td>\n",
       "      <td>1</td>\n",
       "      <td>7</td>\n",
       "      <td>1.140000</td>\n",
       "      <td>18.9</td>\n",
       "      <td>14.542936</td>\n",
       "      <td>3</td>\n",
       "      <td>0</td>\n",
       "      <td>0</td>\n",
       "      <td>0</td>\n",
       "      <td>12</td>\n",
       "      <td>42</td>\n",
       "      <td>Underweight</td>\n",
       "    </tr>\n",
       "    <tr>\n",
       "      <th>1341</th>\n",
       "      <td>0</td>\n",
       "      <td>0</td>\n",
       "      <td>7</td>\n",
       "      <td>1.085000</td>\n",
       "      <td>14.7</td>\n",
       "      <td>12.486993</td>\n",
       "      <td>3</td>\n",
       "      <td>0</td>\n",
       "      <td>0</td>\n",
       "      <td>0</td>\n",
       "      <td>0</td>\n",
       "      <td>113</td>\n",
       "      <td>Underweight</td>\n",
       "    </tr>\n",
       "    <tr>\n",
       "      <th>1342</th>\n",
       "      <td>0</td>\n",
       "      <td>1</td>\n",
       "      <td>13</td>\n",
       "      <td>1.296318</td>\n",
       "      <td>33.0</td>\n",
       "      <td>19.637707</td>\n",
       "      <td>3</td>\n",
       "      <td>0</td>\n",
       "      <td>0</td>\n",
       "      <td>1</td>\n",
       "      <td>12</td>\n",
       "      <td>65</td>\n",
       "      <td>Underweight</td>\n",
       "    </tr>\n",
       "    <tr>\n",
       "      <th>1343</th>\n",
       "      <td>0</td>\n",
       "      <td>0</td>\n",
       "      <td>13</td>\n",
       "      <td>1.450000</td>\n",
       "      <td>27.3</td>\n",
       "      <td>12.984542</td>\n",
       "      <td>3</td>\n",
       "      <td>0</td>\n",
       "      <td>0</td>\n",
       "      <td>1</td>\n",
       "      <td>0</td>\n",
       "      <td>113</td>\n",
       "      <td>Underweight</td>\n",
       "    </tr>\n",
       "  </tbody>\n",
       "</table>\n",
       "<p>1344 rows × 13 columns</p>\n",
       "</div>"
      ],
      "text/plain": [
       "      Patient_seen_at  Gender  Age    height  weight       BMIc  \\\n",
       "0                   1       0   14  1.296318    83.0  49.391809   \n",
       "1                   1       0   13  1.296318    42.0  24.993445   \n",
       "2                   1       1   14  1.296318    46.1  27.433282   \n",
       "3                   1       1   14  1.296318    67.0  39.870496   \n",
       "4                   1       0   13  1.560000    49.0  20.134780   \n",
       "...               ...     ...  ...       ...     ...        ...   \n",
       "1339                0       0    7  1.175000    19.6  14.196469   \n",
       "1340                1       1    7  1.140000    18.9  14.542936   \n",
       "1341                0       0    7  1.085000    14.7  12.486993   \n",
       "1342                0       1   13  1.296318    33.0  19.637707   \n",
       "1343                0       0   13  1.450000    27.3  12.984542   \n",
       "\n",
       "      BMI_Percentile  Patient_is_Overwiegh  Obesity_identified  Age10yrs  \\\n",
       "0                  2                     0                   1         1   \n",
       "1                  0                     0                   0         1   \n",
       "2                  0                     0                   0         1   \n",
       "3                  1                     1                   0         1   \n",
       "4                  0                     0                   0         1   \n",
       "...              ...                   ...                 ...       ...   \n",
       "1339               3                     0                   0         0   \n",
       "1340               3                     0                   0         0   \n",
       "1341               3                     0                   0         0   \n",
       "1342               3                     0                   0         1   \n",
       "1343               3                     0                   0         1   \n",
       "\n",
       "      Diagnosis  Diagnosis_other      bmi_class  \n",
       "0            15              113          Obese  \n",
       "1             8              113  Normal weight  \n",
       "2            12               63  Normal weight  \n",
       "3             8              113     Overweight  \n",
       "4            12              106  Normal weight  \n",
       "...         ...              ...            ...  \n",
       "1339          0              113    Underweight  \n",
       "1340         12               42    Underweight  \n",
       "1341          0              113    Underweight  \n",
       "1342         12               65    Underweight  \n",
       "1343          0              113    Underweight  \n",
       "\n",
       "[1344 rows x 13 columns]"
      ]
     },
     "execution_count": 34,
     "metadata": {},
     "output_type": "execute_result"
    }
   ],
   "source": [
    "df_balanced = x_ros.join(y_ros)\n",
    "df_balanced"
   ]
  },
  {
   "cell_type": "code",
   "execution_count": 35,
   "metadata": {
    "colab": {
     "base_uri": "https://localhost:8080/",
     "height": 467
    },
    "id": "rERemyHfy6Zx",
    "outputId": "ee195354-7639-4c02-e9ac-201ce8f702aa"
   },
   "outputs": [
    {
     "name": "stdout",
     "output_type": "stream",
     "text": [
      "bmi_class\n",
      "Normal weight    336\n",
      "Obese            336\n",
      "Overweight       336\n",
      "Underweight      336\n",
      "dtype: int64\n"
     ]
    },
    {
     "data": {
      "text/plain": [
       "<AxesSubplot:xlabel='bmi_class'>"
      ]
     },
     "execution_count": 35,
     "metadata": {},
     "output_type": "execute_result"
    },
    {
     "data": {
      "image/png": "[encoded data removed]",
      "text/plain": [
       "<Figure size 432x288 with 1 Axes>"
      ]
     },
     "metadata": {
      "needs_background": "light"
     },
     "output_type": "display_data"
    }
   ],
   "source": [
    "# balanced class distribution\n",
    "print(df_balanced.groupby('bmi_class').size())\n",
    "df_balanced.groupby('bmi_class').size().plot(kind = 'bar', color = ['#bd12b9',\n",
    "                                                                    '#a151bd',\n",
    "                                                                    '#9416ef',\n",
    "                                                                    '#56cab7'])"
   ]
  },
  {
   "cell_type": "markdown",
   "metadata": {
    "id": "i9FEvQT_b9Dp"
   },
   "source": [
    "## Data Visualization"
   ]
  },
  {
   "cell_type": "markdown",
   "metadata": {
    "id": "epHZcDsqkJre"
   },
   "source": [
    "### Variable Plots"
   ]
  },
  {
   "cell_type": "code",
   "execution_count": 36,
   "metadata": {
    "colab": {
     "base_uri": "https://localhost:8080/",
     "height": 265
    },
    "id": "6YVT-ECu7Dhv",
    "outputId": "6a04f39f-9ada-4eac-a9e0-f7d8b3e79e45"
   },
   "outputs": [
    {
     "data": {
      "image/png": "[encoded data removed]",
      "text/plain": [
       "<Figure size 720x720 with 12 Axes>"
      ]
     },
     "metadata": {
      "needs_background": "light"
     },
     "output_type": "display_data"
    }
   ],
   "source": [
    "# box and whisker plots\n",
    "numerical_df = df_balanced.select_dtypes(include = 'float')\n",
    "numerical_df.plot(kind='box', subplots=True, layout=(3,4), sharex=False, sharey=False,\n",
    " showfliers = False, figsize = (10, 10))\n",
    "plt.tight_layout() # fixes the axes overlapping issue\n",
    "pyplot.show()"
   ]
  },
  {
   "cell_type": "code",
   "execution_count": 37,
   "metadata": {
    "colab": {
     "base_uri": "https://localhost:8080/",
     "height": 214
    },
    "id": "x7iwUkeL4t1L",
    "outputId": "8ba7a24c-430b-426e-87ff-f83bee731ac5"
   },
   "outputs": [
    {
     "data": {
      "image/png": "[encoded data removed]",
      "text/plain": [
       "<Figure size 720x720 with 16 Axes>"
      ]
     },
     "metadata": {
      "needs_background": "light"
     },
     "output_type": "display_data"
    }
   ],
   "source": [
    "# histograms\n",
    "numerical_df.hist(layout = (4,4), figsize = (10, 10))\n",
    "plt.tight_layout()\n",
    "pyplot.show()"
   ]
  },
  {
   "cell_type": "code",
   "execution_count": 38,
   "metadata": {
    "colab": {
     "base_uri": "https://localhost:8080/",
     "height": 286
    },
    "id": "rgBqq_zx4vje",
    "outputId": "91d4e7ad-dfee-4d9c-ae99-f879231742e3"
   },
   "outputs": [
    {
     "data": {
      "text/plain": [
       "<AxesSubplot:>"
      ]
     },
     "execution_count": 38,
     "metadata": {},
     "output_type": "execute_result"
    },
    {
     "data": {
      "image/png": "[encoded data removed]",
      "text/plain": [
       "<Figure size 432x288 with 2 Axes>"
      ]
     },
     "metadata": {
      "needs_background": "light"
     },
     "output_type": "display_data"
    }
   ],
   "source": [
    "# Heatmap showing the relationship between numerical values\n",
    "import seaborn as sns\n",
    "sns.heatmap(numerical_df.corr(), annot=True)"
   ]
  },
  {
   "cell_type": "code",
   "execution_count": 39,
   "metadata": {
    "id": "iUpcZljp41Qj"
   },
   "outputs": [],
   "source": [
    "#categorical_features = df_balanced.select_dtypes(include=['object']).columns #create a list of categorical features from your training set\n",
    "#feat_cat = df_balanced[categorical_features] #build a data frame with just the categorical values from your training set"
   ]
  },
  {
   "cell_type": "markdown",
   "metadata": {
    "id": "ZHc2cq172fXJ"
   },
   "source": [
    "## Algorithms Comparison"
   ]
  },
  {
   "cell_type": "code",
   "execution_count": 40,
   "metadata": {},
   "outputs": [],
   "source": [
    "def enc_bmi_class(bmi):\n",
    "            if  bmi == 'Obese':\n",
    "                return 0\n",
    "            elif bmi == 'Overweight':\n",
    "                return 1\n",
    "            elif bmi == 'Normal weight':\n",
    "                return 2\n",
    "            elif bmi == 'Underweight':\n",
    "                return 3\n",
    "            else:\n",
    "                return 'null'\n",
    "df_balanced['bmi_class'] = df_balanced['bmi_class'].apply(enc_bmi_class)"
   ]
  },
  {
   "cell_type": "code",
   "execution_count": 41,
   "metadata": {},
   "outputs": [],
   "source": [
    "def pred_bmi_class(num):\n",
    "            if  num == 0:\n",
    "                return 'Obese'\n",
    "            elif num == 1:\n",
    "                return 'Overweight'\n",
    "            elif num == 2:\n",
    "                return 'Normal weight'\n",
    "            elif num == 3:\n",
    "                return 'Underweight'\n",
    "            else:\n",
    "                return 'null'"
   ]
  },
  {
   "cell_type": "code",
   "execution_count": 42,
   "metadata": {
    "id": "4C-abEP0hhE2"
   },
   "outputs": [],
   "source": [
    "df_pred.drop('BMI_Percentile', axis = 1, inplace = True)\n",
    "df_balanced.drop('BMI_Percentile', axis = 1, inplace = True)"
   ]
  },
  {
   "cell_type": "code",
   "execution_count": 43,
   "metadata": {
    "colab": {
     "base_uri": "https://localhost:8080/",
     "height": 206
    },
    "id": "Acz_LDstDoIc",
    "outputId": "82612328-458d-4c37-915b-271554305b53"
   },
   "outputs": [
    {
     "data": {
      "text/html": [
       "<div>\n",
       "<style scoped>\n",
       "    .dataframe tbody tr th:only-of-type {\n",
       "        vertical-align: middle;\n",
       "    }\n",
       "\n",
       "    .dataframe tbody tr th {\n",
       "        vertical-align: top;\n",
       "    }\n",
       "\n",
       "    .dataframe thead th {\n",
       "        text-align: right;\n",
       "    }\n",
       "</style>\n",
       "<table border=\"1\" class=\"dataframe\">\n",
       "  <thead>\n",
       "    <tr style=\"text-align: right;\">\n",
       "      <th></th>\n",
       "      <th>Patient_seen_at</th>\n",
       "      <th>Gender</th>\n",
       "      <th>Age</th>\n",
       "      <th>height</th>\n",
       "      <th>weight</th>\n",
       "      <th>BMIc</th>\n",
       "      <th>Patient_is_Overwiegh</th>\n",
       "      <th>Obesity_identified</th>\n",
       "      <th>Age10yrs</th>\n",
       "      <th>Diagnosis</th>\n",
       "      <th>Diagnosis_other</th>\n",
       "      <th>bmi_class</th>\n",
       "    </tr>\n",
       "  </thead>\n",
       "  <tbody>\n",
       "    <tr>\n",
       "      <th>0</th>\n",
       "      <td>1</td>\n",
       "      <td>0</td>\n",
       "      <td>14</td>\n",
       "      <td>1.296318</td>\n",
       "      <td>83.0</td>\n",
       "      <td>49.391809</td>\n",
       "      <td>0</td>\n",
       "      <td>1</td>\n",
       "      <td>1</td>\n",
       "      <td>15</td>\n",
       "      <td>113</td>\n",
       "      <td>Obese</td>\n",
       "    </tr>\n",
       "    <tr>\n",
       "      <th>1</th>\n",
       "      <td>1</td>\n",
       "      <td>0</td>\n",
       "      <td>13</td>\n",
       "      <td>1.296318</td>\n",
       "      <td>42.0</td>\n",
       "      <td>24.993445</td>\n",
       "      <td>0</td>\n",
       "      <td>0</td>\n",
       "      <td>1</td>\n",
       "      <td>8</td>\n",
       "      <td>113</td>\n",
       "      <td>Normal weight</td>\n",
       "    </tr>\n",
       "    <tr>\n",
       "      <th>2</th>\n",
       "      <td>1</td>\n",
       "      <td>1</td>\n",
       "      <td>14</td>\n",
       "      <td>1.296318</td>\n",
       "      <td>46.1</td>\n",
       "      <td>27.433282</td>\n",
       "      <td>0</td>\n",
       "      <td>0</td>\n",
       "      <td>1</td>\n",
       "      <td>12</td>\n",
       "      <td>63</td>\n",
       "      <td>Normal weight</td>\n",
       "    </tr>\n",
       "    <tr>\n",
       "      <th>3</th>\n",
       "      <td>1</td>\n",
       "      <td>1</td>\n",
       "      <td>14</td>\n",
       "      <td>1.296318</td>\n",
       "      <td>67.0</td>\n",
       "      <td>39.870496</td>\n",
       "      <td>1</td>\n",
       "      <td>0</td>\n",
       "      <td>1</td>\n",
       "      <td>8</td>\n",
       "      <td>113</td>\n",
       "      <td>Overweight</td>\n",
       "    </tr>\n",
       "    <tr>\n",
       "      <th>4</th>\n",
       "      <td>1</td>\n",
       "      <td>0</td>\n",
       "      <td>13</td>\n",
       "      <td>1.560000</td>\n",
       "      <td>49.0</td>\n",
       "      <td>20.134780</td>\n",
       "      <td>0</td>\n",
       "      <td>0</td>\n",
       "      <td>1</td>\n",
       "      <td>12</td>\n",
       "      <td>106</td>\n",
       "      <td>Normal weight</td>\n",
       "    </tr>\n",
       "  </tbody>\n",
       "</table>\n",
       "</div>"
      ],
      "text/plain": [
       "   Patient_seen_at  Gender  Age    height  weight       BMIc  \\\n",
       "0                1       0   14  1.296318    83.0  49.391809   \n",
       "1                1       0   13  1.296318    42.0  24.993445   \n",
       "2                1       1   14  1.296318    46.1  27.433282   \n",
       "3                1       1   14  1.296318    67.0  39.870496   \n",
       "4                1       0   13  1.560000    49.0  20.134780   \n",
       "\n",
       "   Patient_is_Overwiegh  Obesity_identified  Age10yrs  Diagnosis  \\\n",
       "0                     0                   1         1         15   \n",
       "1                     0                   0         1          8   \n",
       "2                     0                   0         1         12   \n",
       "3                     1                   0         1          8   \n",
       "4                     0                   0         1         12   \n",
       "\n",
       "   Diagnosis_other      bmi_class  \n",
       "0              113          Obese  \n",
       "1              113  Normal weight  \n",
       "2               63  Normal weight  \n",
       "3              113     Overweight  \n",
       "4              106  Normal weight  "
      ]
     },
     "execution_count": 43,
     "metadata": {},
     "output_type": "execute_result"
    }
   ],
   "source": [
    "df_pred.head()"
   ]
  },
  {
   "cell_type": "code",
   "execution_count": 44,
   "metadata": {
    "colab": {
     "base_uri": "https://localhost:8080/",
     "height": 206
    },
    "id": "IIGpz_7JNNMV",
    "outputId": "2feea255-b09b-4692-ee5f-8cbc74fc8002"
   },
   "outputs": [
    {
     "data": {
      "text/html": [
       "<div>\n",
       "<style scoped>\n",
       "    .dataframe tbody tr th:only-of-type {\n",
       "        vertical-align: middle;\n",
       "    }\n",
       "\n",
       "    .dataframe tbody tr th {\n",
       "        vertical-align: top;\n",
       "    }\n",
       "\n",
       "    .dataframe thead th {\n",
       "        text-align: right;\n",
       "    }\n",
       "</style>\n",
       "<table border=\"1\" class=\"dataframe\">\n",
       "  <thead>\n",
       "    <tr style=\"text-align: right;\">\n",
       "      <th></th>\n",
       "      <th>Patient_seen_at</th>\n",
       "      <th>Gender</th>\n",
       "      <th>Age</th>\n",
       "      <th>height</th>\n",
       "      <th>weight</th>\n",
       "      <th>BMIc</th>\n",
       "      <th>Patient_is_Overwiegh</th>\n",
       "      <th>Obesity_identified</th>\n",
       "      <th>Age10yrs</th>\n",
       "      <th>Diagnosis</th>\n",
       "      <th>Diagnosis_other</th>\n",
       "      <th>bmi_class</th>\n",
       "    </tr>\n",
       "  </thead>\n",
       "  <tbody>\n",
       "    <tr>\n",
       "      <th>0</th>\n",
       "      <td>1</td>\n",
       "      <td>0</td>\n",
       "      <td>14</td>\n",
       "      <td>1.296318</td>\n",
       "      <td>83.0</td>\n",
       "      <td>49.391809</td>\n",
       "      <td>0</td>\n",
       "      <td>1</td>\n",
       "      <td>1</td>\n",
       "      <td>15</td>\n",
       "      <td>113</td>\n",
       "      <td>0</td>\n",
       "    </tr>\n",
       "    <tr>\n",
       "      <th>1</th>\n",
       "      <td>1</td>\n",
       "      <td>0</td>\n",
       "      <td>13</td>\n",
       "      <td>1.296318</td>\n",
       "      <td>42.0</td>\n",
       "      <td>24.993445</td>\n",
       "      <td>0</td>\n",
       "      <td>0</td>\n",
       "      <td>1</td>\n",
       "      <td>8</td>\n",
       "      <td>113</td>\n",
       "      <td>2</td>\n",
       "    </tr>\n",
       "    <tr>\n",
       "      <th>2</th>\n",
       "      <td>1</td>\n",
       "      <td>1</td>\n",
       "      <td>14</td>\n",
       "      <td>1.296318</td>\n",
       "      <td>46.1</td>\n",
       "      <td>27.433282</td>\n",
       "      <td>0</td>\n",
       "      <td>0</td>\n",
       "      <td>1</td>\n",
       "      <td>12</td>\n",
       "      <td>63</td>\n",
       "      <td>2</td>\n",
       "    </tr>\n",
       "    <tr>\n",
       "      <th>3</th>\n",
       "      <td>1</td>\n",
       "      <td>1</td>\n",
       "      <td>14</td>\n",
       "      <td>1.296318</td>\n",
       "      <td>67.0</td>\n",
       "      <td>39.870496</td>\n",
       "      <td>1</td>\n",
       "      <td>0</td>\n",
       "      <td>1</td>\n",
       "      <td>8</td>\n",
       "      <td>113</td>\n",
       "      <td>1</td>\n",
       "    </tr>\n",
       "    <tr>\n",
       "      <th>4</th>\n",
       "      <td>1</td>\n",
       "      <td>0</td>\n",
       "      <td>13</td>\n",
       "      <td>1.560000</td>\n",
       "      <td>49.0</td>\n",
       "      <td>20.134780</td>\n",
       "      <td>0</td>\n",
       "      <td>0</td>\n",
       "      <td>1</td>\n",
       "      <td>12</td>\n",
       "      <td>106</td>\n",
       "      <td>2</td>\n",
       "    </tr>\n",
       "  </tbody>\n",
       "</table>\n",
       "</div>"
      ],
      "text/plain": [
       "   Patient_seen_at  Gender  Age    height  weight       BMIc  \\\n",
       "0                1       0   14  1.296318    83.0  49.391809   \n",
       "1                1       0   13  1.296318    42.0  24.993445   \n",
       "2                1       1   14  1.296318    46.1  27.433282   \n",
       "3                1       1   14  1.296318    67.0  39.870496   \n",
       "4                1       0   13  1.560000    49.0  20.134780   \n",
       "\n",
       "   Patient_is_Overwiegh  Obesity_identified  Age10yrs  Diagnosis  \\\n",
       "0                     0                   1         1         15   \n",
       "1                     0                   0         1          8   \n",
       "2                     0                   0         1         12   \n",
       "3                     1                   0         1          8   \n",
       "4                     0                   0         1         12   \n",
       "\n",
       "   Diagnosis_other  bmi_class  \n",
       "0              113          0  \n",
       "1              113          2  \n",
       "2               63          2  \n",
       "3              113          1  \n",
       "4              106          2  "
      ]
     },
     "execution_count": 44,
     "metadata": {},
     "output_type": "execute_result"
    }
   ],
   "source": [
    "df_balanced.head()"
   ]
  },
  {
   "cell_type": "code",
   "execution_count": 45,
   "metadata": {
    "colab": {
     "base_uri": "https://localhost:8080/"
    },
    "id": "D3NqMJTsk5bQ",
    "outputId": "aee2a5ed-dbcb-451e-8e23-96c4084016f6"
   },
   "outputs": [
    {
     "data": {
      "text/plain": [
       "count    1344.00000\n",
       "mean        1.50000\n",
       "std         1.11845\n",
       "min         0.00000\n",
       "25%         0.75000\n",
       "50%         1.50000\n",
       "75%         2.25000\n",
       "max         3.00000\n",
       "Name: bmi_class, dtype: float64"
      ]
     },
     "execution_count": 45,
     "metadata": {},
     "output_type": "execute_result"
    }
   ],
   "source": [
    "df_balanced['bmi_class'].describe()"
   ]
  },
  {
   "cell_type": "markdown",
   "metadata": {
    "id": "4OYnjy30cJ9A"
   },
   "source": [
    "##### Split into Training and Testing"
   ]
  },
  {
   "cell_type": "code",
   "execution_count": 46,
   "metadata": {
    "colab": {
     "base_uri": "https://localhost:8080/"
    },
    "id": "PYl1LZ6d2hAy",
    "outputId": "92e3513d-50c8-4476-e783-3eedd342f97a"
   },
   "outputs": [
    {
     "name": "stdout",
     "output_type": "stream",
     "text": [
      "Input (1344, 10)\n",
      "Output (1344,)\n",
      "X_train (1075, 10)\n",
      "X_test (269, 10)\n",
      "Y_train (1075,)\n",
      "Y_test (269,)\n"
     ]
    }
   ],
   "source": [
    "# Split-out validation dataset\n",
    "array = df_balanced.values\n",
    "X = array[:,0:10]\n",
    "Y = array[:,11]\n",
    "\n",
    "X_train, X_test, Y_train, Y_test = train_test_split(X, Y, test_size=0.20, random_state=1)\n",
    "# summarize\n",
    "print('Input', X.shape)\n",
    "print('Output', Y.shape)\n",
    "\n",
    "print('X_train', X_train.shape)\n",
    "print('X_test', X_test.shape)\n",
    "\n",
    "print('Y_train', Y_train.shape)\n",
    "print('Y_test', Y_test.shape)"
   ]
  },
  {
   "cell_type": "markdown",
   "metadata": {
    "id": "BrYe1VY2TLkX"
   },
   "source": [
    "##### Model Testing"
   ]
  },
  {
   "cell_type": "code",
   "execution_count": 47,
   "metadata": {
    "colab": {
     "base_uri": "https://localhost:8080/"
    },
    "id": "UfRllQMwTPu0",
    "outputId": "5c6fe941-aa74-41e3-e3e0-53f2ba50351c"
   },
   "outputs": [
    {
     "name": "stdout",
     "output_type": "stream",
     "text": [
      "LR: 0.936382 (0.027666)\n",
      "LDA: 0.743667 (0.026982)\n",
      "SVM: 0.929242 (0.012662)\n",
      "RF: 0.961517 (0.011744)\n",
      "KNN: 0.852632 (0.017773)\n",
      "CART: 0.949353 (0.021859)\n",
      "AdaBoost: 0.669949 (0.000391)\n",
      "XGBoost: 0.966270 (0.009573)\n",
      "NB: 0.687488 (0.047308)\n"
     ]
    }
   ],
   "source": [
    "# Spot Check Algorithms\n",
    "models = []\n",
    "models.append(('LR', LogisticRegression(solver='liblinear', multi_class='ovr')))\n",
    "models.append(('LDA', LinearDiscriminantAnalysis()))\n",
    "models.append(('SVM', SVC(gamma='auto')))\n",
    "models.append(('RF', RandomForestClassifier(n_estimators = 1344 )))\n",
    "models.append(('KNN', KNeighborsClassifier()))\n",
    "models.append(('CART', DecisionTreeClassifier()))\n",
    "models.append(('AdaBoost', AdaBoostClassifier(\n",
    "    n_estimators=1344, random_state=1)))\n",
    "models.append(('XGBoost',  XGBClassifier(use_label_encoder=False, eval_metric='mlogloss')))\n",
    "models.append(('NB', MultinomialNB()))\n",
    "\n",
    "# evaluate each model in turn\n",
    "results = []\n",
    "names = []\n",
    "for name, model in models:\n",
    "    kfold = StratifiedKFold(n_splits=5, random_state=1, shuffle=True)\n",
    "    # scoring = ['accuracy', 'precision_macro', 'recall_macro', 'f1_macro']\n",
    "    # cv_results = cross_validate(model, X_train, Y_train, cv = kfold, scoring=scoring,\n",
    "    #                                 error_score=\"raise\", return_train_score = True)\n",
    "    # cv_results_df = pd.DataFrame.from_dict(cv_results)\n",
    "    # results.append(cv_results)\n",
    "    # names.append(name)\n",
    "    cv_results = cross_val_score(model, X_train, Y_train, cv = kfold, scoring='f1_macro') #micro is for imbalanced data\n",
    "    results.append(cv_results)\n",
    "    names.append(name)\n",
    "    print('%s: %f (%f)' % (name, cv_results.mean(), cv_results.std()))\n"
   ]
  },
  {
   "cell_type": "markdown",
   "metadata": {
    "id": "RSLMOJ3OcTc6"
   },
   "source": [
    "##### Comparing the Models"
   ]
  },
  {
   "cell_type": "code",
   "execution_count": 48,
   "metadata": {
    "colab": {
     "base_uri": "https://localhost:8080/",
     "height": 322
    },
    "id": "k6WXhuh2kvSK",
    "outputId": "13b44a57-d623-4f82-f409-69bc0d4aa126"
   },
   "outputs": [
    {
     "data": {
      "image/png": "[encoded data removed]",
      "text/plain": [
       "<Figure size 432x288 with 1 Axes>"
      ]
     },
     "metadata": {
      "needs_background": "light"
     },
     "output_type": "display_data"
    },
    {
     "data": {
      "text/plain": [
       "<Figure size 1440x1440 with 0 Axes>"
      ]
     },
     "metadata": {},
     "output_type": "display_data"
    }
   ],
   "source": [
    "# Compare Algorithms\n",
    "pyplot.boxplot(results, labels=names, showfliers=False)\n",
    "pyplot.title('Algorithm Comparison')\n",
    "\n",
    "plt.rcParams[\"figure.figsize\"] = [5, 10]\n",
    "plt.rcParams[\"figure.autolayout\"] = True\n",
    "plt.rcParams.update({'font.size': 22})\n",
    "\n",
    "plt.xticks(rotation=30)\n",
    "plt.figure(figsize=(20, 20))\n",
    "\n",
    "pyplot.show()"
   ]
  },
  {
   "cell_type": "markdown",
   "metadata": {
    "id": "Hm--b-fdTLbf"
   },
   "source": []
  },
  {
   "cell_type": "markdown",
   "metadata": {
    "id": "GGGFXYYs2lsy"
   },
   "source": [
    "## Prediction Model"
   ]
  },
  {
   "cell_type": "markdown",
   "metadata": {
    "id": "2DX4PpG9lDao"
   },
   "source": [
    "As shown above, XGBoost has the highest f1 score. Therefore, we can build our model based on it."
   ]
  },
  {
   "cell_type": "markdown",
   "metadata": {
    "id": "1pz0U0b8lPhe"
   },
   "source": [
    "### Make Predictions"
   ]
  },
  {
   "cell_type": "code",
   "execution_count": 49,
   "metadata": {
    "id": "AmLrr6bY3fr3"
   },
   "outputs": [],
   "source": [
    "# Make predictions on validation dataset\n",
    "model = XGBClassifier(use_label_encoder=False, eval_metric='mlogloss')\n",
    "model.fit(X_train, Y_train)\n",
    "predictions = model.predict(X_test)"
   ]
  },
  {
   "cell_type": "markdown",
   "metadata": {},
   "source": [
    "### Prediction Results"
   ]
  },
  {
   "cell_type": "code",
   "execution_count": 50,
   "metadata": {},
   "outputs": [
    {
     "data": {
      "text/html": [
       "<div>\n",
       "<style scoped>\n",
       "    .dataframe tbody tr th:only-of-type {\n",
       "        vertical-align: middle;\n",
       "    }\n",
       "\n",
       "    .dataframe tbody tr th {\n",
       "        vertical-align: top;\n",
       "    }\n",
       "\n",
       "    .dataframe thead th {\n",
       "        text-align: right;\n",
       "    }\n",
       "</style>\n",
       "<table border=\"1\" class=\"dataframe\">\n",
       "  <thead>\n",
       "    <tr style=\"text-align: right;\">\n",
       "      <th></th>\n",
       "      <th>index</th>\n",
       "      <th>0</th>\n",
       "      <th>1</th>\n",
       "      <th>2</th>\n",
       "      <th>3</th>\n",
       "      <th>4</th>\n",
       "      <th>5</th>\n",
       "      <th>6</th>\n",
       "      <th>7</th>\n",
       "      <th>8</th>\n",
       "      <th>9</th>\n",
       "      <th>predicted_bmi_class</th>\n",
       "    </tr>\n",
       "  </thead>\n",
       "  <tbody>\n",
       "    <tr>\n",
       "      <th>0</th>\n",
       "      <td>0</td>\n",
       "      <td>0.0</td>\n",
       "      <td>1.0</td>\n",
       "      <td>9.0</td>\n",
       "      <td>1.370000</td>\n",
       "      <td>42.0</td>\n",
       "      <td>22.377324</td>\n",
       "      <td>0.0</td>\n",
       "      <td>1.0</td>\n",
       "      <td>0.0</td>\n",
       "      <td>0.0</td>\n",
       "      <td>Obese</td>\n",
       "    </tr>\n",
       "    <tr>\n",
       "      <th>1</th>\n",
       "      <td>1</td>\n",
       "      <td>1.0</td>\n",
       "      <td>0.0</td>\n",
       "      <td>6.0</td>\n",
       "      <td>1.050000</td>\n",
       "      <td>14.0</td>\n",
       "      <td>12.698413</td>\n",
       "      <td>0.0</td>\n",
       "      <td>0.0</td>\n",
       "      <td>0.0</td>\n",
       "      <td>1.0</td>\n",
       "      <td>Underweight</td>\n",
       "    </tr>\n",
       "    <tr>\n",
       "      <th>2</th>\n",
       "      <td>2</td>\n",
       "      <td>1.0</td>\n",
       "      <td>0.0</td>\n",
       "      <td>7.0</td>\n",
       "      <td>1.296318</td>\n",
       "      <td>19.0</td>\n",
       "      <td>11.306559</td>\n",
       "      <td>0.0</td>\n",
       "      <td>0.0</td>\n",
       "      <td>0.0</td>\n",
       "      <td>12.0</td>\n",
       "      <td>Underweight</td>\n",
       "    </tr>\n",
       "    <tr>\n",
       "      <th>3</th>\n",
       "      <td>3</td>\n",
       "      <td>0.0</td>\n",
       "      <td>0.0</td>\n",
       "      <td>6.0</td>\n",
       "      <td>1.190000</td>\n",
       "      <td>26.0</td>\n",
       "      <td>18.360285</td>\n",
       "      <td>0.0</td>\n",
       "      <td>1.0</td>\n",
       "      <td>0.0</td>\n",
       "      <td>12.0</td>\n",
       "      <td>Obese</td>\n",
       "    </tr>\n",
       "    <tr>\n",
       "      <th>4</th>\n",
       "      <td>4</td>\n",
       "      <td>0.0</td>\n",
       "      <td>1.0</td>\n",
       "      <td>9.0</td>\n",
       "      <td>1.220000</td>\n",
       "      <td>20.4</td>\n",
       "      <td>13.705993</td>\n",
       "      <td>0.0</td>\n",
       "      <td>0.0</td>\n",
       "      <td>0.0</td>\n",
       "      <td>0.0</td>\n",
       "      <td>Underweight</td>\n",
       "    </tr>\n",
       "    <tr>\n",
       "      <th>...</th>\n",
       "      <td>...</td>\n",
       "      <td>...</td>\n",
       "      <td>...</td>\n",
       "      <td>...</td>\n",
       "      <td>...</td>\n",
       "      <td>...</td>\n",
       "      <td>...</td>\n",
       "      <td>...</td>\n",
       "      <td>...</td>\n",
       "      <td>...</td>\n",
       "      <td>...</td>\n",
       "      <td>...</td>\n",
       "    </tr>\n",
       "    <tr>\n",
       "      <th>264</th>\n",
       "      <td>264</td>\n",
       "      <td>0.0</td>\n",
       "      <td>0.0</td>\n",
       "      <td>12.0</td>\n",
       "      <td>1.440000</td>\n",
       "      <td>34.0</td>\n",
       "      <td>16.396605</td>\n",
       "      <td>0.0</td>\n",
       "      <td>0.0</td>\n",
       "      <td>1.0</td>\n",
       "      <td>0.0</td>\n",
       "      <td>Normal weight</td>\n",
       "    </tr>\n",
       "    <tr>\n",
       "      <th>265</th>\n",
       "      <td>265</td>\n",
       "      <td>1.0</td>\n",
       "      <td>0.0</td>\n",
       "      <td>6.0</td>\n",
       "      <td>1.330000</td>\n",
       "      <td>22.0</td>\n",
       "      <td>12.437108</td>\n",
       "      <td>1.0</td>\n",
       "      <td>0.0</td>\n",
       "      <td>0.0</td>\n",
       "      <td>12.0</td>\n",
       "      <td>Overweight</td>\n",
       "    </tr>\n",
       "    <tr>\n",
       "      <th>266</th>\n",
       "      <td>266</td>\n",
       "      <td>0.0</td>\n",
       "      <td>0.0</td>\n",
       "      <td>7.0</td>\n",
       "      <td>1.060000</td>\n",
       "      <td>14.7</td>\n",
       "      <td>13.082948</td>\n",
       "      <td>0.0</td>\n",
       "      <td>0.0</td>\n",
       "      <td>0.0</td>\n",
       "      <td>0.0</td>\n",
       "      <td>Underweight</td>\n",
       "    </tr>\n",
       "    <tr>\n",
       "      <th>267</th>\n",
       "      <td>267</td>\n",
       "      <td>1.0</td>\n",
       "      <td>0.0</td>\n",
       "      <td>9.0</td>\n",
       "      <td>1.296318</td>\n",
       "      <td>43.9</td>\n",
       "      <td>26.124101</td>\n",
       "      <td>0.0</td>\n",
       "      <td>1.0</td>\n",
       "      <td>0.0</td>\n",
       "      <td>12.0</td>\n",
       "      <td>Obese</td>\n",
       "    </tr>\n",
       "    <tr>\n",
       "      <th>268</th>\n",
       "      <td>268</td>\n",
       "      <td>0.0</td>\n",
       "      <td>0.0</td>\n",
       "      <td>6.0</td>\n",
       "      <td>1.145000</td>\n",
       "      <td>24.6</td>\n",
       "      <td>18.763944</td>\n",
       "      <td>1.0</td>\n",
       "      <td>0.0</td>\n",
       "      <td>0.0</td>\n",
       "      <td>12.0</td>\n",
       "      <td>Overweight</td>\n",
       "    </tr>\n",
       "  </tbody>\n",
       "</table>\n",
       "<p>269 rows × 12 columns</p>\n",
       "</div>"
      ],
      "text/plain": [
       "     index    0    1     2         3     4          5    6    7    8     9  \\\n",
       "0        0  0.0  1.0   9.0  1.370000  42.0  22.377324  0.0  1.0  0.0   0.0   \n",
       "1        1  1.0  0.0   6.0  1.050000  14.0  12.698413  0.0  0.0  0.0   1.0   \n",
       "2        2  1.0  0.0   7.0  1.296318  19.0  11.306559  0.0  0.0  0.0  12.0   \n",
       "3        3  0.0  0.0   6.0  1.190000  26.0  18.360285  0.0  1.0  0.0  12.0   \n",
       "4        4  0.0  1.0   9.0  1.220000  20.4  13.705993  0.0  0.0  0.0   0.0   \n",
       "..     ...  ...  ...   ...       ...   ...        ...  ...  ...  ...   ...   \n",
       "264    264  0.0  0.0  12.0  1.440000  34.0  16.396605  0.0  0.0  1.0   0.0   \n",
       "265    265  1.0  0.0   6.0  1.330000  22.0  12.437108  1.0  0.0  0.0  12.0   \n",
       "266    266  0.0  0.0   7.0  1.060000  14.7  13.082948  0.0  0.0  0.0   0.0   \n",
       "267    267  1.0  0.0   9.0  1.296318  43.9  26.124101  0.0  1.0  0.0  12.0   \n",
       "268    268  0.0  0.0   6.0  1.145000  24.6  18.763944  1.0  0.0  0.0  12.0   \n",
       "\n",
       "    predicted_bmi_class  \n",
       "0                 Obese  \n",
       "1           Underweight  \n",
       "2           Underweight  \n",
       "3                 Obese  \n",
       "4           Underweight  \n",
       "..                  ...  \n",
       "264       Normal weight  \n",
       "265          Overweight  \n",
       "266         Underweight  \n",
       "267               Obese  \n",
       "268          Overweight  \n",
       "\n",
       "[269 rows x 12 columns]"
      ]
     },
     "execution_count": 50,
     "metadata": {},
     "output_type": "execute_result"
    }
   ],
   "source": [
    "df_x = pd.DataFrame(X_test)\n",
    "df_x = df_x.reset_index()\n",
    "df_y = pd.DataFrame(predictions, columns = ([\"predicted_bmi_class\"]))\n",
    "df_predicted = df_x.join(df_y)\n",
    "df_predicted['predicted_bmi_class'] = df_predicted['predicted_bmi_class'].apply(pred_bmi_class)\n",
    "df_predicted"
   ]
  },
  {
   "cell_type": "code",
   "execution_count": 51,
   "metadata": {},
   "outputs": [
    {
     "data": {
      "text/html": [
       "<div>\n",
       "<style scoped>\n",
       "    .dataframe tbody tr th:only-of-type {\n",
       "        vertical-align: middle;\n",
       "    }\n",
       "\n",
       "    .dataframe tbody tr th {\n",
       "        vertical-align: top;\n",
       "    }\n",
       "\n",
       "    .dataframe thead th {\n",
       "        text-align: right;\n",
       "    }\n",
       "</style>\n",
       "<table border=\"1\" class=\"dataframe\">\n",
       "  <thead>\n",
       "    <tr style=\"text-align: right;\">\n",
       "      <th></th>\n",
       "      <th>index</th>\n",
       "      <th>bmi_class</th>\n",
       "      <th>predicted_bmi_class</th>\n",
       "    </tr>\n",
       "  </thead>\n",
       "  <tbody>\n",
       "    <tr>\n",
       "      <th>0</th>\n",
       "      <td>0</td>\n",
       "      <td>Obese</td>\n",
       "      <td>0</td>\n",
       "    </tr>\n",
       "    <tr>\n",
       "      <th>1</th>\n",
       "      <td>1</td>\n",
       "      <td>Underweight</td>\n",
       "      <td>3</td>\n",
       "    </tr>\n",
       "    <tr>\n",
       "      <th>2</th>\n",
       "      <td>2</td>\n",
       "      <td>Normal weight</td>\n",
       "      <td>3</td>\n",
       "    </tr>\n",
       "    <tr>\n",
       "      <th>3</th>\n",
       "      <td>3</td>\n",
       "      <td>Obese</td>\n",
       "      <td>0</td>\n",
       "    </tr>\n",
       "    <tr>\n",
       "      <th>4</th>\n",
       "      <td>4</td>\n",
       "      <td>Underweight</td>\n",
       "      <td>3</td>\n",
       "    </tr>\n",
       "    <tr>\n",
       "      <th>...</th>\n",
       "      <td>...</td>\n",
       "      <td>...</td>\n",
       "      <td>...</td>\n",
       "    </tr>\n",
       "    <tr>\n",
       "      <th>264</th>\n",
       "      <td>264</td>\n",
       "      <td>Normal weight</td>\n",
       "      <td>2</td>\n",
       "    </tr>\n",
       "    <tr>\n",
       "      <th>265</th>\n",
       "      <td>265</td>\n",
       "      <td>Overweight</td>\n",
       "      <td>1</td>\n",
       "    </tr>\n",
       "    <tr>\n",
       "      <th>266</th>\n",
       "      <td>266</td>\n",
       "      <td>Underweight</td>\n",
       "      <td>3</td>\n",
       "    </tr>\n",
       "    <tr>\n",
       "      <th>267</th>\n",
       "      <td>267</td>\n",
       "      <td>Obese</td>\n",
       "      <td>0</td>\n",
       "    </tr>\n",
       "    <tr>\n",
       "      <th>268</th>\n",
       "      <td>268</td>\n",
       "      <td>Overweight</td>\n",
       "      <td>1</td>\n",
       "    </tr>\n",
       "  </tbody>\n",
       "</table>\n",
       "<p>269 rows × 3 columns</p>\n",
       "</div>"
      ],
      "text/plain": [
       "     index      bmi_class  predicted_bmi_class\n",
       "0        0          Obese                    0\n",
       "1        1    Underweight                    3\n",
       "2        2  Normal weight                    3\n",
       "3        3          Obese                    0\n",
       "4        4    Underweight                    3\n",
       "..     ...            ...                  ...\n",
       "264    264  Normal weight                    2\n",
       "265    265     Overweight                    1\n",
       "266    266    Underweight                    3\n",
       "267    267          Obese                    0\n",
       "268    268     Overweight                    1\n",
       "\n",
       "[269 rows x 3 columns]"
      ]
     },
     "execution_count": 51,
     "metadata": {},
     "output_type": "execute_result"
    }
   ],
   "source": [
    "df_yact = pd.DataFrame(Y_test, columns = [\"bmi_class\"])\n",
    "df_yact = df_yact.reset_index()\n",
    "df_ys = df_yact.join(df_y)\n",
    "df_ys['bmi_class'] = df_ys['bmi_class'].apply(pred_bmi_class)\n",
    "df_ys"
   ]
  },
  {
   "cell_type": "markdown",
   "metadata": {
    "id": "oxG3MaHUl4tc"
   },
   "source": [
    "### Evaluate Predictions"
   ]
  },
  {
   "cell_type": "code",
   "execution_count": 52,
   "metadata": {
    "colab": {
     "base_uri": "https://localhost:8080/"
    },
    "id": "Y8RfE5PKl1b_",
    "outputId": "586725b0-0765-4370-83a8-1e33a32827fd"
   },
   "outputs": [
    {
     "name": "stdout",
     "output_type": "stream",
     "text": [
      "0.9479553903345725\n",
      "[[70  0  0  0]\n",
      " [ 0 63  0  0]\n",
      " [ 0  0 63 13]\n",
      " [ 0  0  1 59]]\n",
      "              precision    recall  f1-score   support\n",
      "\n",
      "         0.0       1.00      1.00      1.00        70\n",
      "         1.0       1.00      1.00      1.00        63\n",
      "         2.0       0.98      0.83      0.90        76\n",
      "         3.0       0.82      0.98      0.89        60\n",
      "\n",
      "    accuracy                           0.95       269\n",
      "   macro avg       0.95      0.95      0.95       269\n",
      "weighted avg       0.96      0.95      0.95       269\n",
      "\n"
     ]
    }
   ],
   "source": [
    "# Evaluate predictions\n",
    "print(accuracy_score(Y_test, predictions))\n",
    "print(confusion_matrix(Y_test, predictions))\n",
    "print(classification_report(Y_test, predictions))"
   ]
  },
  {
   "cell_type": "markdown",
   "metadata": {
    "id": "R3MBLEMomhYk"
   },
   "source": [
    " The accuracy is 95%. The rest of the evaluation metrics are shown in the breakdown in the classification report above."
   ]
  },
  {
   "cell_type": "code",
   "execution_count": 53,
   "metadata": {},
   "outputs": [
    {
     "data": {
      "text/plain": [
       "[Text(0, 0.5, 'Obese'),\n",
       " Text(0, 1.5, 'Overweight'),\n",
       " Text(0, 2.5, 'Normal'),\n",
       " Text(0, 3.5, 'Under')]"
      ]
     },
     "execution_count": 53,
     "metadata": {},
     "output_type": "execute_result"
    },
    {
     "data": {
      "image/png": "[encoded data removed]",
      "text/plain": [
       "<Figure size 720x720 with 2 Axes>"
      ]
     },
     "metadata": {
      "needs_background": "light"
     },
     "output_type": "display_data"
    }
   ],
   "source": [
    "#plt.xticks(rotation=30)\n",
    "plt.figure(figsize=(10, 10))\n",
    "cm = confusion_matrix(Y_test, predictions)\n",
    "ax= plt.subplot()\n",
    "sns.heatmap(cm, annot=True, fmt='g', ax=ax)\n",
    "ax.set_xlabel('Predicted labels')\n",
    "ax.set_ylabel('True labels');\n",
    "ax.set_title('Confusion Matrix')\n",
    "ax.xaxis.set_ticklabels(['Obese', 'Overweight', 'Normal', 'Under'])\n",
    "ax.yaxis.set_ticklabels(['Obese', 'Overweight', 'Normal', 'Under'])"
   ]
  },
  {
   "cell_type": "markdown",
   "metadata": {},
   "source": [
    "Check out the metrics for (Normal Weight). Precision is high, meaning that the model was careful to avoid labeling things “Normal Weight” that aren’t normal weight. On the other hand, recall is relatively low, which means that the classifier is missing a bunch of normal weights because it is being too careful! The F1 score reflects this imbalance.\n",
    "\n",
    "On its own, a classification report tells us generally what kind of errors the model made, but it doesn’t give us specifics. The confusion matrix tells us exactly where mistakes were made, but it doesn’t give us summary metrics like precision, recall, or F1 score. Using both of these can give us a much more nuanced understanding of how our model performs, going far beyond what an accuracy score can tell us and avoiding some of its pitfalls."
   ]
  },
  {
   "cell_type": "markdown",
   "metadata": {},
   "source": [
    "***"
   ]
  },
  {
   "cell_type": "markdown",
   "metadata": {},
   "source": [
    "_End of Implementation_"
   ]
  }
 ],
 "metadata": {
  "colab": {
   "collapsed_sections": [
    "LwLv2piloXPS"
   ],
   "name": "SeniorProject.ipynb",
   "provenance": []
  },
  "kernelspec": {
   "display_name": "Python 3",
   "language": "python",
   "name": "python3"
  },
  "language_info": {
   "codemirror_mode": {
    "name": "ipython",
    "version": 3
   },
   "file_extension": ".py",
   "mimetype": "text/x-python",
   "name": "python",
   "nbconvert_exporter": "python",
   "pygments_lexer": "ipython3",
   "version": "3.8.8"
  }
 },
 "nbformat": 4,
 "nbformat_minor": 1
}
